{
 "cells": [
  {
   "cell_type": "markdown",
   "metadata": {},
   "source": [
    "# Project: Investigate a Dataset - No Show Appointments\n",
    "\n",
    "## Table of Contents\n",
    "<ul>\n",
    "<li><a href=\"#intro\">Introduction</a></li>\n",
    "<li><a href=\"#wrangling\">Data Wrangling</a></li>\n",
    "<li><a href=\"#eda\">Exploratory Data Analysis</a></li>\n",
    "<li><a href=\"#conclusions\">Conclusions</a></li>\n",
    "</ul>"
   ]
  },
  {
   "cell_type": "markdown",
   "metadata": {},
   "source": [
    "<a id='intro'></a>\n",
    "## Introduction\n",
    "\n",
    "### Dataset Description \n",
    "\n",
    "> The No Show Appointment dataset consist of patients' demographic and health information (14 associated variables or characteristics) collected from approximately 110,527 medical appointments in Brazil. The dataset is focused on answering the question of whether or not the patients show up for their appointments. The following information below are contained in the patients' data:\n",
    "> - Patient Identification Number\n",
    "> - Appointment Identifier\n",
    "> - Gender (Male M or Female F)\n",
    "> - Scheduled Day of Appointment\n",
    "> - Appointment Day\n",
    "> - Age of Patients\n",
    "> - Neighbourhood (Where the hospitals are located)\n",
    "> - Scholarship (If patients are enrolled in the [Brasilian welfare program Bolsa Família](https://en.wikipedia.org/wiki/Bolsa_Fam%C3%ADlia))\n",
    "> - Hipertension (Hypertension)\n",
    "> - Diabetes\n",
    "> - Alcoholism\n",
    "> - Handcap\n",
    "> - SMS Received as reminders\n",
    "> - No-show: __‘No’__ if the patient showed up, or __‘Yes’__ if they did not show up to their appointment\n",
    "\n",
    "_Reference for Dataset on [Kaggle](https://www.kaggle.com/datasets/joniarroba/noshowappointments)_ \n",
    "\n",
    "\n",
    "### Question(s) for Analysis\n",
    "\n",
    "**Question One**: What are the demographic distributions of the patients?\n",
    "> _- By Age Group_\n",
    "> _- By Gender_\n",
    "> _- By Scholarship_\n",
    "> _- By Health Conditions_\n",
    "> _- By Physical Disability_\n",
    "> _- By SMS Received_\n",
    "> _- By No Show for Appointments_\n",
    "\n",
    "**Question Two**: Is there any impact of the health conditions on attendance at appoinment by the patients? _Are chronic illnesses like hypertension and diabetes affecting patient's absences?_\n",
    "\n",
    "**Question Three**: Does scheduling impact their attendance at the appointments? _Is the period between scheduled day and appointment day affecting the number of no-show appointments?_\n",
    "\n",
    "**Question Four**: Do SMS reminders decrease the number of absences? _Do SMS reminders increase the attendance on appointment days?_ "
   ]
  },
  {
   "cell_type": "markdown",
   "metadata": {},
   "source": [
    "<a id='wrangling'></a>\n",
    "## Data Wrangling"
   ]
  },
  {
   "cell_type": "code",
   "execution_count": 1,
   "metadata": {},
   "outputs": [],
   "source": [
    "# Use this cell to set up import statements for all of the packages that you plan to use.\n",
    "import numpy as np\n",
    "import pandas as pd\n",
    "import matplotlib.pyplot as plt\n",
    "import seaborn as sns\n",
    "from scipy import stats\n",
    "\n",
    "# Remember to include a 'magic word' so that your visualizations are plotted\n",
    "#   inline with the notebook. See this page for more:\n",
    "#   http://ipython.readthedocs.io/en/stable/interactive/magics.html\n",
    "%matplotlib inline"
   ]
  },
  {
   "cell_type": "code",
   "execution_count": 2,
   "metadata": {},
   "outputs": [
    {
     "data": {
      "text/html": [
       "<div>\n",
       "<style scoped>\n",
       "    .dataframe tbody tr th:only-of-type {\n",
       "        vertical-align: middle;\n",
       "    }\n",
       "\n",
       "    .dataframe tbody tr th {\n",
       "        vertical-align: top;\n",
       "    }\n",
       "\n",
       "    .dataframe thead th {\n",
       "        text-align: right;\n",
       "    }\n",
       "</style>\n",
       "<table border=\"1\" class=\"dataframe\">\n",
       "  <thead>\n",
       "    <tr style=\"text-align: right;\">\n",
       "      <th></th>\n",
       "      <th>PatientId</th>\n",
       "      <th>AppointmentID</th>\n",
       "      <th>Gender</th>\n",
       "      <th>ScheduledDay</th>\n",
       "      <th>AppointmentDay</th>\n",
       "      <th>Age</th>\n",
       "      <th>Neighbourhood</th>\n",
       "      <th>Scholarship</th>\n",
       "      <th>Hipertension</th>\n",
       "      <th>Diabetes</th>\n",
       "      <th>Alcoholism</th>\n",
       "      <th>Handcap</th>\n",
       "      <th>SMS_received</th>\n",
       "      <th>No-show</th>\n",
       "    </tr>\n",
       "  </thead>\n",
       "  <tbody>\n",
       "    <tr>\n",
       "      <th>0</th>\n",
       "      <td>2.987250e+13</td>\n",
       "      <td>5642903</td>\n",
       "      <td>F</td>\n",
       "      <td>2016-04-29T18:38:08Z</td>\n",
       "      <td>2016-04-29T00:00:00Z</td>\n",
       "      <td>62</td>\n",
       "      <td>JARDIM DA PENHA</td>\n",
       "      <td>0</td>\n",
       "      <td>1</td>\n",
       "      <td>0</td>\n",
       "      <td>0</td>\n",
       "      <td>0</td>\n",
       "      <td>0</td>\n",
       "      <td>No</td>\n",
       "    </tr>\n",
       "    <tr>\n",
       "      <th>1</th>\n",
       "      <td>5.589978e+14</td>\n",
       "      <td>5642503</td>\n",
       "      <td>M</td>\n",
       "      <td>2016-04-29T16:08:27Z</td>\n",
       "      <td>2016-04-29T00:00:00Z</td>\n",
       "      <td>56</td>\n",
       "      <td>JARDIM DA PENHA</td>\n",
       "      <td>0</td>\n",
       "      <td>0</td>\n",
       "      <td>0</td>\n",
       "      <td>0</td>\n",
       "      <td>0</td>\n",
       "      <td>0</td>\n",
       "      <td>No</td>\n",
       "    </tr>\n",
       "    <tr>\n",
       "      <th>2</th>\n",
       "      <td>4.262962e+12</td>\n",
       "      <td>5642549</td>\n",
       "      <td>F</td>\n",
       "      <td>2016-04-29T16:19:04Z</td>\n",
       "      <td>2016-04-29T00:00:00Z</td>\n",
       "      <td>62</td>\n",
       "      <td>MATA DA PRAIA</td>\n",
       "      <td>0</td>\n",
       "      <td>0</td>\n",
       "      <td>0</td>\n",
       "      <td>0</td>\n",
       "      <td>0</td>\n",
       "      <td>0</td>\n",
       "      <td>No</td>\n",
       "    </tr>\n",
       "    <tr>\n",
       "      <th>3</th>\n",
       "      <td>8.679512e+11</td>\n",
       "      <td>5642828</td>\n",
       "      <td>F</td>\n",
       "      <td>2016-04-29T17:29:31Z</td>\n",
       "      <td>2016-04-29T00:00:00Z</td>\n",
       "      <td>8</td>\n",
       "      <td>PONTAL DE CAMBURI</td>\n",
       "      <td>0</td>\n",
       "      <td>0</td>\n",
       "      <td>0</td>\n",
       "      <td>0</td>\n",
       "      <td>0</td>\n",
       "      <td>0</td>\n",
       "      <td>No</td>\n",
       "    </tr>\n",
       "    <tr>\n",
       "      <th>4</th>\n",
       "      <td>8.841186e+12</td>\n",
       "      <td>5642494</td>\n",
       "      <td>F</td>\n",
       "      <td>2016-04-29T16:07:23Z</td>\n",
       "      <td>2016-04-29T00:00:00Z</td>\n",
       "      <td>56</td>\n",
       "      <td>JARDIM DA PENHA</td>\n",
       "      <td>0</td>\n",
       "      <td>1</td>\n",
       "      <td>1</td>\n",
       "      <td>0</td>\n",
       "      <td>0</td>\n",
       "      <td>0</td>\n",
       "      <td>No</td>\n",
       "    </tr>\n",
       "  </tbody>\n",
       "</table>\n",
       "</div>"
      ],
      "text/plain": [
       "      PatientId  AppointmentID Gender          ScheduledDay  \\\n",
       "0  2.987250e+13        5642903      F  2016-04-29T18:38:08Z   \n",
       "1  5.589978e+14        5642503      M  2016-04-29T16:08:27Z   \n",
       "2  4.262962e+12        5642549      F  2016-04-29T16:19:04Z   \n",
       "3  8.679512e+11        5642828      F  2016-04-29T17:29:31Z   \n",
       "4  8.841186e+12        5642494      F  2016-04-29T16:07:23Z   \n",
       "\n",
       "         AppointmentDay  Age      Neighbourhood  Scholarship  Hipertension  \\\n",
       "0  2016-04-29T00:00:00Z   62    JARDIM DA PENHA            0             1   \n",
       "1  2016-04-29T00:00:00Z   56    JARDIM DA PENHA            0             0   \n",
       "2  2016-04-29T00:00:00Z   62      MATA DA PRAIA            0             0   \n",
       "3  2016-04-29T00:00:00Z    8  PONTAL DE CAMBURI            0             0   \n",
       "4  2016-04-29T00:00:00Z   56    JARDIM DA PENHA            0             1   \n",
       "\n",
       "   Diabetes  Alcoholism  Handcap  SMS_received No-show  \n",
       "0         0           0        0             0      No  \n",
       "1         0           0        0             0      No  \n",
       "2         0           0        0             0      No  \n",
       "3         0           0        0             0      No  \n",
       "4         1           0        0             0      No  "
      ]
     },
     "execution_count": 2,
     "metadata": {},
     "output_type": "execute_result"
    }
   ],
   "source": [
    "# Load your data and print out a few lines. Perform operations to inspect data\n",
    "#   types and look for instances of missing or possibly errant data.\n",
    "#df = pd.read_csv('noshowappointments.csv')\n",
    "df = pd.read_csv('noshowappointments-kagglev2-may-2016.csv')\n",
    "df.head()"
   ]
  },
  {
   "cell_type": "markdown",
   "metadata": {},
   "source": [
    "> **Checking for the dimensions of the dataset**"
   ]
  },
  {
   "cell_type": "code",
   "execution_count": 3,
   "metadata": {},
   "outputs": [
    {
     "data": {
      "text/plain": [
       "(110527, 14)"
      ]
     },
     "execution_count": 3,
     "metadata": {},
     "output_type": "execute_result"
    }
   ],
   "source": [
    "df.shape"
   ]
  },
  {
   "cell_type": "code",
   "execution_count": 4,
   "metadata": {},
   "outputs": [
    {
     "name": "stdout",
     "output_type": "stream",
     "text": [
      "The shape of the dataset is (110527, 14), with 110527 rows/observations and 14 columns/variables\n"
     ]
    }
   ],
   "source": [
    "print(f\"The shape of the dataset is {df.shape}, with {df.shape[0]} rows/observations and {df.shape[1]} columns/variables\")"
   ]
  },
  {
   "cell_type": "markdown",
   "metadata": {},
   "source": [
    "> **Checking the dataset for rows with missing/null values and datatypes**"
   ]
  },
  {
   "cell_type": "code",
   "execution_count": 5,
   "metadata": {},
   "outputs": [
    {
     "data": {
      "text/plain": [
       "PatientId         0\n",
       "AppointmentID     0\n",
       "Gender            0\n",
       "ScheduledDay      0\n",
       "AppointmentDay    0\n",
       "Age               0\n",
       "Neighbourhood     0\n",
       "Scholarship       0\n",
       "Hipertension      0\n",
       "Diabetes          0\n",
       "Alcoholism        0\n",
       "Handcap           0\n",
       "SMS_received      0\n",
       "No-show           0\n",
       "dtype: int64"
      ]
     },
     "execution_count": 5,
     "metadata": {},
     "output_type": "execute_result"
    }
   ],
   "source": [
    "df.isnull().sum()"
   ]
  },
  {
   "cell_type": "code",
   "execution_count": 6,
   "metadata": {},
   "outputs": [
    {
     "name": "stdout",
     "output_type": "stream",
     "text": [
      "<class 'pandas.core.frame.DataFrame'>\n",
      "RangeIndex: 110527 entries, 0 to 110526\n",
      "Data columns (total 14 columns):\n",
      " #   Column          Non-Null Count   Dtype  \n",
      "---  ------          --------------   -----  \n",
      " 0   PatientId       110527 non-null  float64\n",
      " 1   AppointmentID   110527 non-null  int64  \n",
      " 2   Gender          110527 non-null  object \n",
      " 3   ScheduledDay    110527 non-null  object \n",
      " 4   AppointmentDay  110527 non-null  object \n",
      " 5   Age             110527 non-null  int64  \n",
      " 6   Neighbourhood   110527 non-null  object \n",
      " 7   Scholarship     110527 non-null  int64  \n",
      " 8   Hipertension    110527 non-null  int64  \n",
      " 9   Diabetes        110527 non-null  int64  \n",
      " 10  Alcoholism      110527 non-null  int64  \n",
      " 11  Handcap         110527 non-null  int64  \n",
      " 12  SMS_received    110527 non-null  int64  \n",
      " 13  No-show         110527 non-null  object \n",
      "dtypes: float64(1), int64(8), object(5)\n",
      "memory usage: 11.8+ MB\n"
     ]
    }
   ],
   "source": [
    "df.info()"
   ]
  },
  {
   "cell_type": "markdown",
   "metadata": {},
   "source": [
    "- _The dataset does not have any row(s) with null values along the columns_\n",
    "- _The dataset has 9 variables as either int64 or float which are important in the description of the data_\n",
    "- _The 'ScheduledDay' and 'AppointmentDay' are objects to be converted to datetime_"
   ]
  },
  {
   "cell_type": "markdown",
   "metadata": {},
   "source": [
    "> **Checking the dataset for duplicated rows**"
   ]
  },
  {
   "cell_type": "code",
   "execution_count": 7,
   "metadata": {},
   "outputs": [
    {
     "data": {
      "text/plain": [
       "0"
      ]
     },
     "execution_count": 7,
     "metadata": {},
     "output_type": "execute_result"
    }
   ],
   "source": [
    "df.duplicated().sum()"
   ]
  },
  {
   "cell_type": "markdown",
   "metadata": {},
   "source": [
    "- _The dataset does not have any duplicated rows_"
   ]
  },
  {
   "cell_type": "markdown",
   "metadata": {},
   "source": [
    "> **Describing the dataset**"
   ]
  },
  {
   "cell_type": "code",
   "execution_count": 8,
   "metadata": {},
   "outputs": [
    {
     "data": {
      "text/plain": [
       "count    110527.000000\n",
       "mean         37.088874\n",
       "std          23.110205\n",
       "min          -1.000000\n",
       "25%          18.000000\n",
       "50%          37.000000\n",
       "75%          55.000000\n",
       "max         115.000000\n",
       "Name: Age, dtype: float64"
      ]
     },
     "execution_count": 8,
     "metadata": {},
     "output_type": "execute_result"
    }
   ],
   "source": [
    "df['Age'].describe()"
   ]
  },
  {
   "cell_type": "code",
   "execution_count": 9,
   "metadata": {},
   "outputs": [
    {
     "data": {
      "image/png": "[encoded data removed]",
      "text/plain": [
       "<Figure size 1080x432 with 2 Axes>"
      ]
     },
     "metadata": {
      "needs_background": "light"
     },
     "output_type": "display_data"
    }
   ],
   "source": [
    "fig, ax = plt.subplots(1, 2, figsize=(15, 6))\n",
    "ax[0].hist(df['Age'], color = 'blue', edgecolor = 'black');\n",
    "ax[1].boxplot(df['Age'], vert=False);\n",
    "ax[0].set_xlabel('Age of patients in the No Show Appointment data');\n",
    "ax[0].set_ylabel('Number of patients');\n",
    "ax[1].set_xlabel('Age of patients in the No Show Appointment data');\n",
    "fig.suptitle('Histogram and Boxplot of the age distribution of patients in the No Show Appointment data', fontsize=20);"
   ]
  },
  {
   "cell_type": "code",
   "execution_count": 10,
   "metadata": {},
   "outputs": [
    {
     "name": "stdout",
     "output_type": "stream",
     "text": [
      "There are 0 outliers lesser than the lower boundary of -37.5\n",
      "There are 5 outliers greater than the upper boundary of 110.5\n"
     ]
    }
   ],
   "source": [
    "## How many outliers in the data based on the age distribution of the patients\n",
    "Q3 = np.quantile(df['Age'], 0.75)\n",
    "Q1 = np.quantile(df['Age'], 0.25)\n",
    "lower_boundary = Q1 - 1.5 *(Q3-Q1)\n",
    "upper_boundary = Q3 + 1.5 *(Q3-Q1)\n",
    "print(f\"There are {len(df[df['Age'] < lower_boundary])} outliers lesser than the lower boundary of {lower_boundary}\")\n",
    "print(f\"There are {len(df[df['Age'] > upper_boundary])} outliers greater than the upper boundary of {upper_boundary}\")"
   ]
  },
  {
   "cell_type": "code",
   "execution_count": 11,
   "metadata": {},
   "outputs": [
    {
     "name": "stdout",
     "output_type": "stream",
     "text": [
      "Age\n",
      "[ 62  56   8  76  23  39  21  19  30  29  22  28  54  15  50  40  46   4\n",
      "  13  65  45  51  32  12  61  38  79  18  63  64  85  59  55  71  49  78\n",
      "  31  58  27   6   2  11   7   0   3   1  69  68  60  67  36  10  35  20\n",
      "  26  34  33  16  42   5  47  17  41  44  37  24  66  77  81  70  53  75\n",
      "  73  52  74  43  89  57  14   9  48  83  72  25  80  87  88  84  82  90\n",
      "  94  86  91  98  92  96  93  95  97 102 115 100  99  -1]\n",
      "\n",
      "\n",
      "Gender\n",
      "['F' 'M']\n",
      "\n",
      "\n",
      "Neighbourhood\n",
      "['JARDIM DA PENHA' 'MATA DA PRAIA' 'PONTAL DE CAMBURI' 'REPÚBLICA'\n",
      " 'GOIABEIRAS' 'ANDORINHAS' 'CONQUISTA' 'NOVA PALESTINA' 'DA PENHA'\n",
      " 'TABUAZEIRO' 'BENTO FERREIRA' 'SÃO PEDRO' 'SANTA MARTHA' 'SÃO CRISTÓVÃO'\n",
      " 'MARUÍPE' 'GRANDE VITÓRIA' 'SÃO BENEDITO' 'ILHA DAS CAIEIRAS'\n",
      " 'SANTO ANDRÉ' 'SOLON BORGES' 'BONFIM' 'JARDIM CAMBURI' 'MARIA ORTIZ'\n",
      " 'JABOUR' 'ANTÔNIO HONÓRIO' 'RESISTÊNCIA' 'ILHA DE SANTA MARIA'\n",
      " 'JUCUTUQUARA' 'MONTE BELO' 'MÁRIO CYPRESTE' 'SANTO ANTÔNIO' 'BELA VISTA'\n",
      " 'PRAIA DO SUÁ' 'SANTA HELENA' 'ITARARÉ' 'INHANGUETÁ' 'UNIVERSITÁRIO'\n",
      " 'SÃO JOSÉ' 'REDENÇÃO' 'SANTA CLARA' 'CENTRO' 'PARQUE MOSCOSO'\n",
      " 'DO MOSCOSO' 'SANTOS DUMONT' 'CARATOÍRA' 'ARIOVALDO FAVALESSA'\n",
      " 'ILHA DO FRADE' 'GURIGICA' 'JOANA D´ARC' 'CONSOLAÇÃO' 'PRAIA DO CANTO'\n",
      " 'BOA VISTA' 'MORADA DE CAMBURI' 'SANTA LUÍZA' 'SANTA LÚCIA'\n",
      " 'BARRO VERMELHO' 'ESTRELINHA' 'FORTE SÃO JOÃO' 'FONTE GRANDE'\n",
      " 'ENSEADA DO SUÁ' 'SANTOS REIS' 'PIEDADE' 'JESUS DE NAZARETH'\n",
      " 'SANTA TEREZA' 'CRUZAMENTO' 'ILHA DO PRÍNCIPE' 'ROMÃO' 'COMDUSA'\n",
      " 'SANTA CECÍLIA' 'VILA RUBIM' 'DE LOURDES' 'DO QUADRO' 'DO CABRAL' 'HORTO'\n",
      " 'SEGURANÇA DO LAR' 'ILHA DO BOI' 'FRADINHOS' 'NAZARETH' 'AEROPORTO'\n",
      " 'ILHAS OCEÂNICAS DE TRINDADE' 'PARQUE INDUSTRIAL']\n",
      "\n",
      "\n",
      "Scholarship\n",
      "[0 1]\n",
      "\n",
      "\n",
      "Hipertension\n",
      "[1 0]\n",
      "\n",
      "\n",
      "Diabetes\n",
      "[0 1]\n",
      "\n",
      "\n",
      "Alcoholism\n",
      "[0 1]\n",
      "\n",
      "\n",
      "Handcap\n",
      "[0 1 2 3 4]\n",
      "\n",
      "\n",
      "SMS_received\n",
      "[0 1]\n",
      "\n",
      "\n",
      "No-show\n",
      "['No' 'Yes']\n",
      "\n",
      "\n"
     ]
    }
   ],
   "source": [
    "#Get unique values for each variables\n",
    "for i in df[['Age','Gender', 'Neighbourhood', 'Scholarship', 'Hipertension', 'Diabetes', 'Alcoholism', 'Handcap', 'SMS_received', 'No-show']].columns:\n",
    "    print(i)\n",
    "    print(df[i].unique())\n",
    "    print('\\n')"
   ]
  },
  {
   "cell_type": "code",
   "execution_count": 12,
   "metadata": {},
   "outputs": [
    {
     "data": {
      "text/plain": [
       "1"
      ]
     },
     "execution_count": 12,
     "metadata": {},
     "output_type": "execute_result"
    }
   ],
   "source": [
    "## How many rows contain the negative age for patients\n",
    "len(df[df['Age'] < 0])"
   ]
  },
  {
   "cell_type": "code",
   "execution_count": 13,
   "metadata": {},
   "outputs": [
    {
     "data": {
      "text/plain": [
       "199"
      ]
     },
     "execution_count": 13,
     "metadata": {},
     "output_type": "execute_result"
    }
   ],
   "source": [
    "## How many rows contain wrong handicap designation of more than 1\n",
    "len(df[df['Handcap'] > 1])"
   ]
  },
  {
   "cell_type": "markdown",
   "metadata": {},
   "source": [
    "- _The mean(sd) age of the patients is 37(23), indicating a large spread of the age of the patients around the mean and a large subset of the population are less than the mean/median age_\n",
    "- _The dataset contains outliers based on the patient age (indicating patients who are very old) - the maximum age is far from the 75percentile_\n",
    "- _The dataset contains patient(s) negatively aged '-1'. This cannot be the true age (possibly a mistake at entry)_\n",
    "- _The dataset contains patient(s) with wrong handicap designation of more than 1 (It should be True[1] or False[0])_"
   ]
  },
  {
   "cell_type": "markdown",
   "metadata": {},
   "source": [
    "### Data Cleaning\n",
    "> * All the rows in the dataset have no-missing/complete values. No need for dropping or filling the rows.\n",
    "> * The No Show Appointment dataset has a relatively large number of observations (110,527). I would be dropping the rows observed to contains negative age (1 row), outliers (5 rows), and wrong handicap designation (199 rows). These rows make up about 205 out of 110,527 (0.002%) of the data.\n",
    "> * The 'ScheduledDay' and 'AppointmentDay' columns are to be converted to datetimes."
   ]
  },
  {
   "cell_type": "code",
   "execution_count": 14,
   "metadata": {},
   "outputs": [],
   "source": [
    "# After discussing the structure of the data and any problems that need to be cleaned, perform those cleaning steps in the second part of this section."
   ]
  },
  {
   "cell_type": "markdown",
   "metadata": {},
   "source": [
    "> Dropping row(s) with negative age '-1'"
   ]
  },
  {
   "cell_type": "code",
   "execution_count": 15,
   "metadata": {},
   "outputs": [],
   "source": [
    "# Drop 1 rows with negative age using the index\n",
    "df.drop(df[df['Age'] < 0].index, inplace=True)"
   ]
  },
  {
   "cell_type": "code",
   "execution_count": 16,
   "metadata": {},
   "outputs": [
    {
     "name": "stdout",
     "output_type": "stream",
     "text": [
      "110526\n"
     ]
    }
   ],
   "source": [
    "# Confirm the updated number of rows after dropping the rows with negative age\n",
    "print(len(df))"
   ]
  },
  {
   "cell_type": "markdown",
   "metadata": {},
   "source": [
    "> Dropping row(s) with age outliers"
   ]
  },
  {
   "cell_type": "code",
   "execution_count": 17,
   "metadata": {},
   "outputs": [],
   "source": [
    "# Drop 5 rows with age greater than the upper boundary using the index\n",
    "df.drop(df[df['Age'] > upper_boundary].index, inplace=True)"
   ]
  },
  {
   "cell_type": "code",
   "execution_count": 18,
   "metadata": {},
   "outputs": [
    {
     "name": "stdout",
     "output_type": "stream",
     "text": [
      "110521\n"
     ]
    }
   ],
   "source": [
    "# Confirm the updated number of rows after dropping the rows with outliers\n",
    "print(len(df))"
   ]
  },
  {
   "cell_type": "markdown",
   "metadata": {},
   "source": [
    "> Dropping row(s) with wrong handicap designations"
   ]
  },
  {
   "cell_type": "code",
   "execution_count": 19,
   "metadata": {},
   "outputs": [],
   "source": [
    "# Drop 199 rows with age greater than the upper boundary using the index\n",
    "df.drop(df[df['Handcap'] > 1].index, inplace=True)"
   ]
  },
  {
   "cell_type": "code",
   "execution_count": 20,
   "metadata": {},
   "outputs": [
    {
     "name": "stdout",
     "output_type": "stream",
     "text": [
      "110322\n"
     ]
    }
   ],
   "source": [
    "# Confirm the updated number of rows after dropping the rows with wrong handicap designations\n",
    "print(len(df))"
   ]
  },
  {
   "cell_type": "markdown",
   "metadata": {},
   "source": [
    "> Convert 'ScheduledDay' and 'AppointmentDay' columns to pandas datetime"
   ]
  },
  {
   "cell_type": "code",
   "execution_count": 21,
   "metadata": {},
   "outputs": [],
   "source": [
    "df['ScheduledDay'] = pd.to_datetime(df['ScheduledDay'])\n",
    "df['AppointmentDay'] = pd.to_datetime(df['AppointmentDay'])"
   ]
  },
  {
   "cell_type": "code",
   "execution_count": 22,
   "metadata": {},
   "outputs": [
    {
     "name": "stdout",
     "output_type": "stream",
     "text": [
      "<class 'pandas.core.frame.DataFrame'>\n",
      "Int64Index: 110322 entries, 0 to 110526\n",
      "Data columns (total 14 columns):\n",
      " #   Column          Non-Null Count   Dtype              \n",
      "---  ------          --------------   -----              \n",
      " 0   PatientId       110322 non-null  float64            \n",
      " 1   AppointmentID   110322 non-null  int64              \n",
      " 2   Gender          110322 non-null  object             \n",
      " 3   ScheduledDay    110322 non-null  datetime64[ns, UTC]\n",
      " 4   AppointmentDay  110322 non-null  datetime64[ns, UTC]\n",
      " 5   Age             110322 non-null  int64              \n",
      " 6   Neighbourhood   110322 non-null  object             \n",
      " 7   Scholarship     110322 non-null  int64              \n",
      " 8   Hipertension    110322 non-null  int64              \n",
      " 9   Diabetes        110322 non-null  int64              \n",
      " 10  Alcoholism      110322 non-null  int64              \n",
      " 11  Handcap         110322 non-null  int64              \n",
      " 12  SMS_received    110322 non-null  int64              \n",
      " 13  No-show         110322 non-null  object             \n",
      "dtypes: datetime64[ns, UTC](2), float64(1), int64(8), object(3)\n",
      "memory usage: 12.6+ MB\n"
     ]
    }
   ],
   "source": [
    "# Confirm the updated modifications on the dataframe\n",
    "df.info()"
   ]
  },
  {
   "cell_type": "code",
   "execution_count": 23,
   "metadata": {},
   "outputs": [],
   "source": [
    "# Reset dataframe index to present a working dataframe\n",
    "df.reset_index(inplace=True)"
   ]
  },
  {
   "cell_type": "code",
   "execution_count": 24,
   "metadata": {},
   "outputs": [],
   "source": [
    "# Rename columns\n",
    "# Hipertension -> Hypertension\n",
    "# Handcap -> Handicap\n",
    "df.rename(columns={'Hipertension': 'Hypertension', 'Handcap': 'Handicap'}, inplace=True);"
   ]
  },
  {
   "cell_type": "code",
   "execution_count": 25,
   "metadata": {},
   "outputs": [
    {
     "data": {
      "text/html": [
       "<div>\n",
       "<style scoped>\n",
       "    .dataframe tbody tr th:only-of-type {\n",
       "        vertical-align: middle;\n",
       "    }\n",
       "\n",
       "    .dataframe tbody tr th {\n",
       "        vertical-align: top;\n",
       "    }\n",
       "\n",
       "    .dataframe thead th {\n",
       "        text-align: right;\n",
       "    }\n",
       "</style>\n",
       "<table border=\"1\" class=\"dataframe\">\n",
       "  <thead>\n",
       "    <tr style=\"text-align: right;\">\n",
       "      <th></th>\n",
       "      <th>index</th>\n",
       "      <th>PatientId</th>\n",
       "      <th>AppointmentID</th>\n",
       "      <th>Gender</th>\n",
       "      <th>ScheduledDay</th>\n",
       "      <th>AppointmentDay</th>\n",
       "      <th>Age</th>\n",
       "      <th>Neighbourhood</th>\n",
       "      <th>Scholarship</th>\n",
       "      <th>Hypertension</th>\n",
       "      <th>Diabetes</th>\n",
       "      <th>Alcoholism</th>\n",
       "      <th>Handicap</th>\n",
       "      <th>SMS_received</th>\n",
       "      <th>No-show</th>\n",
       "    </tr>\n",
       "  </thead>\n",
       "  <tbody>\n",
       "    <tr>\n",
       "      <th>110317</th>\n",
       "      <td>110522</td>\n",
       "      <td>2.572134e+12</td>\n",
       "      <td>5651768</td>\n",
       "      <td>F</td>\n",
       "      <td>2016-05-03 09:15:35+00:00</td>\n",
       "      <td>2016-06-07 00:00:00+00:00</td>\n",
       "      <td>56</td>\n",
       "      <td>MARIA ORTIZ</td>\n",
       "      <td>0</td>\n",
       "      <td>0</td>\n",
       "      <td>0</td>\n",
       "      <td>0</td>\n",
       "      <td>0</td>\n",
       "      <td>1</td>\n",
       "      <td>No</td>\n",
       "    </tr>\n",
       "    <tr>\n",
       "      <th>110318</th>\n",
       "      <td>110523</td>\n",
       "      <td>3.596266e+12</td>\n",
       "      <td>5650093</td>\n",
       "      <td>F</td>\n",
       "      <td>2016-05-03 07:27:33+00:00</td>\n",
       "      <td>2016-06-07 00:00:00+00:00</td>\n",
       "      <td>51</td>\n",
       "      <td>MARIA ORTIZ</td>\n",
       "      <td>0</td>\n",
       "      <td>0</td>\n",
       "      <td>0</td>\n",
       "      <td>0</td>\n",
       "      <td>0</td>\n",
       "      <td>1</td>\n",
       "      <td>No</td>\n",
       "    </tr>\n",
       "    <tr>\n",
       "      <th>110319</th>\n",
       "      <td>110524</td>\n",
       "      <td>1.557663e+13</td>\n",
       "      <td>5630692</td>\n",
       "      <td>F</td>\n",
       "      <td>2016-04-27 16:03:52+00:00</td>\n",
       "      <td>2016-06-07 00:00:00+00:00</td>\n",
       "      <td>21</td>\n",
       "      <td>MARIA ORTIZ</td>\n",
       "      <td>0</td>\n",
       "      <td>0</td>\n",
       "      <td>0</td>\n",
       "      <td>0</td>\n",
       "      <td>0</td>\n",
       "      <td>1</td>\n",
       "      <td>No</td>\n",
       "    </tr>\n",
       "    <tr>\n",
       "      <th>110320</th>\n",
       "      <td>110525</td>\n",
       "      <td>9.213493e+13</td>\n",
       "      <td>5630323</td>\n",
       "      <td>F</td>\n",
       "      <td>2016-04-27 15:09:23+00:00</td>\n",
       "      <td>2016-06-07 00:00:00+00:00</td>\n",
       "      <td>38</td>\n",
       "      <td>MARIA ORTIZ</td>\n",
       "      <td>0</td>\n",
       "      <td>0</td>\n",
       "      <td>0</td>\n",
       "      <td>0</td>\n",
       "      <td>0</td>\n",
       "      <td>1</td>\n",
       "      <td>No</td>\n",
       "    </tr>\n",
       "    <tr>\n",
       "      <th>110321</th>\n",
       "      <td>110526</td>\n",
       "      <td>3.775115e+14</td>\n",
       "      <td>5629448</td>\n",
       "      <td>F</td>\n",
       "      <td>2016-04-27 13:30:56+00:00</td>\n",
       "      <td>2016-06-07 00:00:00+00:00</td>\n",
       "      <td>54</td>\n",
       "      <td>MARIA ORTIZ</td>\n",
       "      <td>0</td>\n",
       "      <td>0</td>\n",
       "      <td>0</td>\n",
       "      <td>0</td>\n",
       "      <td>0</td>\n",
       "      <td>1</td>\n",
       "      <td>No</td>\n",
       "    </tr>\n",
       "  </tbody>\n",
       "</table>\n",
       "</div>"
      ],
      "text/plain": [
       "         index     PatientId  AppointmentID Gender              ScheduledDay  \\\n",
       "110317  110522  2.572134e+12        5651768      F 2016-05-03 09:15:35+00:00   \n",
       "110318  110523  3.596266e+12        5650093      F 2016-05-03 07:27:33+00:00   \n",
       "110319  110524  1.557663e+13        5630692      F 2016-04-27 16:03:52+00:00   \n",
       "110320  110525  9.213493e+13        5630323      F 2016-04-27 15:09:23+00:00   \n",
       "110321  110526  3.775115e+14        5629448      F 2016-04-27 13:30:56+00:00   \n",
       "\n",
       "                  AppointmentDay  Age Neighbourhood  Scholarship  \\\n",
       "110317 2016-06-07 00:00:00+00:00   56   MARIA ORTIZ            0   \n",
       "110318 2016-06-07 00:00:00+00:00   51   MARIA ORTIZ            0   \n",
       "110319 2016-06-07 00:00:00+00:00   21   MARIA ORTIZ            0   \n",
       "110320 2016-06-07 00:00:00+00:00   38   MARIA ORTIZ            0   \n",
       "110321 2016-06-07 00:00:00+00:00   54   MARIA ORTIZ            0   \n",
       "\n",
       "        Hypertension  Diabetes  Alcoholism  Handicap  SMS_received No-show  \n",
       "110317             0         0           0         0             1      No  \n",
       "110318             0         0           0         0             1      No  \n",
       "110319             0         0           0         0             1      No  \n",
       "110320             0         0           0         0             1      No  \n",
       "110321             0         0           0         0             1      No  "
      ]
     },
     "execution_count": 25,
     "metadata": {},
     "output_type": "execute_result"
    }
   ],
   "source": [
    "df.tail()"
   ]
  },
  {
   "cell_type": "markdown",
   "metadata": {},
   "source": [
    "> _End of Data Wrangling_"
   ]
  },
  {
   "cell_type": "markdown",
   "metadata": {},
   "source": [
    "<a id='eda'></a>\n",
    "## Exploratory Data Analysis\n",
    "\n",
    "### Research Question 1 (What are the demographic distributions of the patients?)\n",
    "> _- By Age Group_\n",
    "> _- By Gender_\n",
    "> _- By Scholarship_\n",
    "> _- By Health Conditions_\n",
    "> _- By Physical Disability_\n",
    "> _- By SMS Received_\n",
    "> _- By No Show for Appointments_"
   ]
  },
  {
   "cell_type": "code",
   "execution_count": 26,
   "metadata": {},
   "outputs": [],
   "source": [
    "## Defined function for exploratory data analysis\n",
    "def BreakDownByColumn(df, col):\n",
    "    output_dataframe = pd.DataFrame(df[col].value_counts())\n",
    "    #output_dataframe.iloc['Total'] = df[col].count()\n",
    "    return output_dataframe\n",
    "\n",
    "# Age categorization\n",
    "def AgeGroups(age):\n",
    "    if age <= 1:\n",
    "        agegrp = 'Infant'\n",
    "    elif age >= 2 and age <= 4:\n",
    "        agegrp = 'Toddler'\n",
    "    elif age >= 5 and age <= 12:\n",
    "        agegrp = 'Child'\n",
    "    elif age >= 13 and age <= 19:\n",
    "        agegrp = 'Teen'\n",
    "    elif age >= 20 and age <= 59:\n",
    "        agegrp = 'Adult'\n",
    "    else:\n",
    "        agegrp = 'Senior Adult'\n",
    "    return agegrp"
   ]
  },
  {
   "cell_type": "markdown",
   "metadata": {},
   "source": [
    "_Reference for age grouping retrieved from [©2022 INTEGRIS Health Oklahoma's largest hospital network](https://integrisok.com/resources/on-your-health/2015/october/stages-of-life-health-for-every-age)_"
   ]
  },
  {
   "cell_type": "code",
   "execution_count": 27,
   "metadata": {},
   "outputs": [
    {
     "data": {
      "text/html": [
       "<div>\n",
       "<style scoped>\n",
       "    .dataframe tbody tr th:only-of-type {\n",
       "        vertical-align: middle;\n",
       "    }\n",
       "\n",
       "    .dataframe tbody tr th {\n",
       "        vertical-align: top;\n",
       "    }\n",
       "\n",
       "    .dataframe thead th {\n",
       "        text-align: right;\n",
       "    }\n",
       "</style>\n",
       "<table border=\"1\" class=\"dataframe\">\n",
       "  <thead>\n",
       "    <tr style=\"text-align: right;\">\n",
       "      <th></th>\n",
       "      <th>Age</th>\n",
       "      <th>Gender</th>\n",
       "      <th>Scholarship</th>\n",
       "      <th>Hypertension</th>\n",
       "      <th>Diabetes</th>\n",
       "      <th>Alcoholism</th>\n",
       "      <th>Handicap</th>\n",
       "      <th>SMS_received</th>\n",
       "      <th>No-show</th>\n",
       "      <th>AgeGrp</th>\n",
       "    </tr>\n",
       "  </thead>\n",
       "  <tbody>\n",
       "    <tr>\n",
       "      <th>0</th>\n",
       "      <td>62</td>\n",
       "      <td>Female</td>\n",
       "      <td>No Scholarship</td>\n",
       "      <td>Yes, have Hypertension</td>\n",
       "      <td>No Diabetes</td>\n",
       "      <td>Non-Alcoholic</td>\n",
       "      <td>No Disability</td>\n",
       "      <td>No SMS</td>\n",
       "      <td>No, Present</td>\n",
       "      <td>Senior Adult</td>\n",
       "    </tr>\n",
       "    <tr>\n",
       "      <th>1</th>\n",
       "      <td>56</td>\n",
       "      <td>Male</td>\n",
       "      <td>No Scholarship</td>\n",
       "      <td>No Hypertension</td>\n",
       "      <td>No Diabetes</td>\n",
       "      <td>Non-Alcoholic</td>\n",
       "      <td>No Disability</td>\n",
       "      <td>No SMS</td>\n",
       "      <td>No, Present</td>\n",
       "      <td>Adult</td>\n",
       "    </tr>\n",
       "    <tr>\n",
       "      <th>2</th>\n",
       "      <td>62</td>\n",
       "      <td>Female</td>\n",
       "      <td>No Scholarship</td>\n",
       "      <td>No Hypertension</td>\n",
       "      <td>No Diabetes</td>\n",
       "      <td>Non-Alcoholic</td>\n",
       "      <td>No Disability</td>\n",
       "      <td>No SMS</td>\n",
       "      <td>No, Present</td>\n",
       "      <td>Senior Adult</td>\n",
       "    </tr>\n",
       "    <tr>\n",
       "      <th>3</th>\n",
       "      <td>8</td>\n",
       "      <td>Female</td>\n",
       "      <td>No Scholarship</td>\n",
       "      <td>No Hypertension</td>\n",
       "      <td>No Diabetes</td>\n",
       "      <td>Non-Alcoholic</td>\n",
       "      <td>No Disability</td>\n",
       "      <td>No SMS</td>\n",
       "      <td>No, Present</td>\n",
       "      <td>Child</td>\n",
       "    </tr>\n",
       "    <tr>\n",
       "      <th>4</th>\n",
       "      <td>56</td>\n",
       "      <td>Female</td>\n",
       "      <td>No Scholarship</td>\n",
       "      <td>Yes, have Hypertension</td>\n",
       "      <td>Yes, have Diabetes</td>\n",
       "      <td>Non-Alcoholic</td>\n",
       "      <td>No Disability</td>\n",
       "      <td>No SMS</td>\n",
       "      <td>No, Present</td>\n",
       "      <td>Adult</td>\n",
       "    </tr>\n",
       "  </tbody>\n",
       "</table>\n",
       "</div>"
      ],
      "text/plain": [
       "   Age  Gender     Scholarship            Hypertension            Diabetes  \\\n",
       "0   62  Female  No Scholarship  Yes, have Hypertension         No Diabetes   \n",
       "1   56    Male  No Scholarship         No Hypertension         No Diabetes   \n",
       "2   62  Female  No Scholarship         No Hypertension         No Diabetes   \n",
       "3    8  Female  No Scholarship         No Hypertension         No Diabetes   \n",
       "4   56  Female  No Scholarship  Yes, have Hypertension  Yes, have Diabetes   \n",
       "\n",
       "      Alcoholism       Handicap SMS_received      No-show        AgeGrp  \n",
       "0  Non-Alcoholic  No Disability       No SMS  No, Present  Senior Adult  \n",
       "1  Non-Alcoholic  No Disability       No SMS  No, Present         Adult  \n",
       "2  Non-Alcoholic  No Disability       No SMS  No, Present  Senior Adult  \n",
       "3  Non-Alcoholic  No Disability       No SMS  No, Present         Child  \n",
       "4  Non-Alcoholic  No Disability       No SMS  No, Present         Adult  "
      ]
     },
     "execution_count": 27,
     "metadata": {},
     "output_type": "execute_result"
    }
   ],
   "source": [
    "## Distribution of patient based on each variable in the dataset\n",
    "# Reformat the dataset to provide \n",
    "dfpie = df[['Age', 'Gender', 'Scholarship', 'Hypertension', 'Diabetes', 'Alcoholism', 'Handicap', 'SMS_received', 'No-show']].copy()\n",
    "dfpie['AgeGrp'] = dfpie['Age'].apply(AgeGroups)\n",
    "dfpie['Gender'] = dfpie['Gender'].apply(lambda x : 'Male' if x=='M' else 'Female')\n",
    "dfpie['Scholarship'] = dfpie['Scholarship'].apply(lambda x : 'Yes, On Scholarship' if x==1 else 'No Scholarship')\n",
    "dfpie['Hypertension'] = dfpie['Hypertension'].apply(lambda x : 'Yes, have Hypertension' if x==1 else 'No Hypertension')\n",
    "dfpie['Diabetes'] = dfpie['Diabetes'].apply(lambda x : 'Yes, have Diabetes' if x==1 else 'No Diabetes')\n",
    "dfpie['Alcoholism'] = dfpie['Alcoholism'].apply(lambda x : 'Yes, an Alcoholic' if x==1 else 'Non-Alcoholic')\n",
    "dfpie['Handicap'] = dfpie['Handicap'].apply(lambda x : 'Yes, Physically Disabled' if x==1 else 'No Disability')\n",
    "dfpie['SMS_received'] = dfpie['SMS_received'].apply(lambda x : 'Yes, Received' if x==1 else 'No SMS')\n",
    "dfpie['No-show'] = dfpie['No-show'].apply(lambda x : 'Yes, Absent' if x=='Yes' else 'No, Present')\n",
    "dfpie.head()"
   ]
  },
  {
   "cell_type": "code",
   "execution_count": 28,
   "metadata": {},
   "outputs": [
    {
     "data": {
      "text/html": [
       "<div>\n",
       "<style scoped>\n",
       "    .dataframe tbody tr th:only-of-type {\n",
       "        vertical-align: middle;\n",
       "    }\n",
       "\n",
       "    .dataframe tbody tr th {\n",
       "        vertical-align: top;\n",
       "    }\n",
       "\n",
       "    .dataframe thead th {\n",
       "        text-align: right;\n",
       "    }\n",
       "</style>\n",
       "<table border=\"1\" class=\"dataframe\">\n",
       "  <thead>\n",
       "    <tr style=\"text-align: right;\">\n",
       "      <th></th>\n",
       "      <th>Gender</th>\n",
       "    </tr>\n",
       "  </thead>\n",
       "  <tbody>\n",
       "    <tr>\n",
       "      <th>F</th>\n",
       "      <td>71725</td>\n",
       "    </tr>\n",
       "    <tr>\n",
       "      <th>M</th>\n",
       "      <td>38597</td>\n",
       "    </tr>\n",
       "  </tbody>\n",
       "</table>\n",
       "</div>"
      ],
      "text/plain": [
       "   Gender\n",
       "F   71725\n",
       "M   38597"
      ]
     },
     "execution_count": 28,
     "metadata": {},
     "output_type": "execute_result"
    }
   ],
   "source": [
    "## How many males and females are in the dataset\n",
    "BreakDownByColumn(df, 'Gender')"
   ]
  },
  {
   "cell_type": "code",
   "execution_count": 29,
   "metadata": {},
   "outputs": [
    {
     "data": {
      "image/png": "[encoded data removed]",
      "text/plain": [
       "<Figure size 576x576 with 1 Axes>"
      ]
     },
     "metadata": {},
     "output_type": "display_data"
    }
   ],
   "source": [
    "# Create a pie plot of the age groups\n",
    "fig, ax = plt.subplots(1, 1, figsize=(8, 8))\n",
    "ax.pie(dfpie['AgeGrp'].value_counts(), labels=dfpie['AgeGrp'].value_counts().index, autopct='%1.1f%%', shadow=True, startangle=90)\n",
    "fig.suptitle('Age Group Distribution of patients in the No Show Appointment data');"
   ]
  },
  {
   "cell_type": "code",
   "execution_count": 30,
   "metadata": {},
   "outputs": [
    {
     "data": {
      "text/html": [
       "<div>\n",
       "<style scoped>\n",
       "    .dataframe tbody tr th:only-of-type {\n",
       "        vertical-align: middle;\n",
       "    }\n",
       "\n",
       "    .dataframe tbody tr th {\n",
       "        vertical-align: top;\n",
       "    }\n",
       "\n",
       "    .dataframe thead th {\n",
       "        text-align: right;\n",
       "    }\n",
       "</style>\n",
       "<table border=\"1\" class=\"dataframe\">\n",
       "  <thead>\n",
       "    <tr style=\"text-align: right;\">\n",
       "      <th>Gender</th>\n",
       "      <th>Female</th>\n",
       "      <th>Male</th>\n",
       "      <th>FemaleThanMale</th>\n",
       "    </tr>\n",
       "    <tr>\n",
       "      <th>AgeGrp</th>\n",
       "      <th></th>\n",
       "      <th></th>\n",
       "      <th></th>\n",
       "    </tr>\n",
       "  </thead>\n",
       "  <tbody>\n",
       "    <tr>\n",
       "      <th>Infant</th>\n",
       "      <td>2809</td>\n",
       "      <td>3003</td>\n",
       "      <td>False</td>\n",
       "    </tr>\n",
       "    <tr>\n",
       "      <th>Toddler</th>\n",
       "      <td>2138</td>\n",
       "      <td>2290</td>\n",
       "      <td>False</td>\n",
       "    </tr>\n",
       "    <tr>\n",
       "      <th>Child</th>\n",
       "      <td>5066</td>\n",
       "      <td>5708</td>\n",
       "      <td>False</td>\n",
       "    </tr>\n",
       "    <tr>\n",
       "      <th>Teen</th>\n",
       "      <td>6044</td>\n",
       "      <td>3303</td>\n",
       "      <td>True</td>\n",
       "    </tr>\n",
       "    <tr>\n",
       "      <th>Adult</th>\n",
       "      <td>41421</td>\n",
       "      <td>17444</td>\n",
       "      <td>True</td>\n",
       "    </tr>\n",
       "    <tr>\n",
       "      <th>Senior Adult</th>\n",
       "      <td>14247</td>\n",
       "      <td>6849</td>\n",
       "      <td>True</td>\n",
       "    </tr>\n",
       "  </tbody>\n",
       "</table>\n",
       "</div>"
      ],
      "text/plain": [
       "Gender        Female   Male  FemaleThanMale\n",
       "AgeGrp                                     \n",
       "Infant          2809   3003           False\n",
       "Toddler         2138   2290           False\n",
       "Child           5066   5708           False\n",
       "Teen            6044   3303            True\n",
       "Adult          41421  17444            True\n",
       "Senior Adult   14247   6849            True"
      ]
     },
     "execution_count": 30,
     "metadata": {},
     "output_type": "execute_result"
    }
   ],
   "source": [
    "## How many males and females are in the dataset across the age groups\n",
    "crosstab_ag = pd.crosstab(dfpie['AgeGrp'], dfpie['Gender']).reindex(['Infant', 'Toddler', 'Child', 'Teen', 'Adult', 'Senior Adult'])\n",
    "crosstab_ag['FemaleThanMale'] = crosstab_ag.Female > crosstab_ag.Male\n",
    "crosstab_ag"
   ]
  },
  {
   "cell_type": "code",
   "execution_count": 31,
   "metadata": {},
   "outputs": [
    {
     "data": {
      "image/png": "[encoded data removed]",
      "text/plain": [
       "<Figure size 1440x1944 with 8 Axes>"
      ]
     },
     "metadata": {},
     "output_type": "display_data"
    }
   ],
   "source": [
    "# Create individual pie plots showing the portion of each variables \n",
    "fig, ax = plt.subplots(4, 2, figsize=(20, 27))\n",
    "ax[0,0].pie(dfpie['Gender'].value_counts(), labels=dfpie['Gender'].value_counts().index, autopct='%1.1f%%', shadow=True, startangle=90)\n",
    "ax[0,0].set_title('Gender Distribution of patients in the No Show Appointment data');\n",
    "ax[0,1].pie(dfpie['Scholarship'].value_counts(), labels=dfpie['Scholarship'].value_counts().index, autopct='%1.1f%%', shadow=True, startangle=90)\n",
    "ax[0,1].set_title('Scholarship Distribution of patients in the No Show Appointment data');\n",
    "ax[1,0].pie(dfpie['Hypertension'].value_counts(), labels=dfpie['Hypertension'].value_counts().index, autopct='%1.1f%%', shadow=True, startangle=90)\n",
    "ax[1,0].set_title('Distribution of patients\\' hypertension status in the No Show Appointment data');\n",
    "ax[1,1].pie(dfpie['Diabetes'].value_counts(), labels=dfpie['Diabetes'].value_counts().index, autopct='%1.1f%%', shadow=True, startangle=90)\n",
    "ax[1,1].set_title('Distribution of patients\\' diabetes status in the No Show Appointment data');\n",
    "ax[2,0].pie(dfpie['Alcoholism'].value_counts(), labels=dfpie['Alcoholism'].value_counts().index, autopct='%1.1f%%', shadow=True, startangle=90)\n",
    "ax[2,0].set_title('Distribution of patients\\' alcoholic status in the No Show Appointment data');\n",
    "ax[2,1].pie(dfpie['Handicap'].value_counts(), labels=dfpie['Handicap'].value_counts().index, autopct='%1.1f%%', shadow=True, startangle=90)\n",
    "ax[2,1].set_title('Distribution of patients\\' physically disability in the No Show Appointment data');\n",
    "ax[3,0].pie(dfpie['SMS_received'].value_counts(), labels=dfpie['SMS_received'].value_counts().index, autopct='%1.1f%%', shadow=True, startangle=90)\n",
    "ax[3,0].set_title('Distribution of patients who received SMS in the No Show Appointment data');\n",
    "ax[3,1].pie(dfpie['No-show'].value_counts(), labels=dfpie['No-show'].value_counts().index, autopct='%1.1f%%', shadow=True, startangle=90)\n",
    "ax[3,1].set_title('Distribution of patients\\' attendance in the No Show Appointment data');\n",
    "fig.suptitle('Pie plots of the variable distributions of patients in the No Show Appointment data', fontsize=20);"
   ]
  },
  {
   "cell_type": "markdown",
   "metadata": {},
   "source": [
    "- _The No Show Appointment dataset comprises of more women(65.0%) than men(35.0%), where 72.4% of the population are made up of adult above the age of 20_\n",
    "- _About 90.2% of the patients are enrolled in the Brasilian welfare program_\n",
    "- _Approximately 67.9% of the patients did not receive any SMS reminders towards their scheduled appointments_\n",
    "- _79.8% of the patients were present at their appointments as scheduled_"
   ]
  },
  {
   "cell_type": "markdown",
   "metadata": {},
   "source": [
    "### Research Question 2  (Is there any impact of the health conditions and attendance at appoinment by the patients? _Are chronic illnesses like hypertension and diabetes affecting patients' absences?_)"
   ]
  },
  {
   "cell_type": "code",
   "execution_count": 32,
   "metadata": {},
   "outputs": [],
   "source": [
    "## Define functions to categorize the chronic illness reported in the No Show Apointment data\n",
    "def ChronicIllness(dfh, dfd):\n",
    "    #patient has hypertension only and not diabetes\n",
    "    if dfh == 1 and dfd == 0:\n",
    "        cigrp = 'Yes'\n",
    "    #patient has diabetes only and not hypertension\n",
    "    elif dfh == 0 and dfd == 1:\n",
    "        cigrp = 'Yes'\n",
    "    #patient has both hypertension and diabetes\n",
    "    elif dfh == 1 and dfd == 1:\n",
    "        cigrp = 'Yes'\n",
    "    else:\n",
    "        cigrp = 'None'\n",
    "    return cigrp\n",
    "def ChronicIllnessGroup(dfh, dfd):\n",
    "    #patient has hypertension only and not diabetes\n",
    "    if dfh == 1 and dfd == 0:\n",
    "        cigrp = 'H Only'\n",
    "    #patient has diabetes only and not hypertension\n",
    "    elif dfh == 0 and dfd == 1:\n",
    "        cigrp = 'D Only'\n",
    "    #patient has both hypertension and diabetes\n",
    "    elif dfh == 1 and dfd == 1:\n",
    "        cigrp = 'H and D'\n",
    "    else:\n",
    "        cigrp = 'None'\n",
    "    return cigrp\n",
    "\n",
    "def PrintChiSquare(crosstab):\n",
    "    chi2square, pValue, degreeOfFreedom, expected = stats.chi2_contingency(crosstab)\n",
    "    print(f\"The Chi square value is {round(chi2square, 2)} with a probability of {round(pValue, 5)} at a degree of freedom of {degreeOfFreedom}\")\n",
    "    print('\\n')\n",
    "    print(f\"Expected Values: \\n {np.ceil(expected)}\")"
   ]
  },
  {
   "cell_type": "code",
   "execution_count": 33,
   "metadata": {},
   "outputs": [
    {
     "data": {
      "text/html": [
       "<div>\n",
       "<style scoped>\n",
       "    .dataframe tbody tr th:only-of-type {\n",
       "        vertical-align: middle;\n",
       "    }\n",
       "\n",
       "    .dataframe tbody tr th {\n",
       "        vertical-align: top;\n",
       "    }\n",
       "\n",
       "    .dataframe thead th {\n",
       "        text-align: right;\n",
       "    }\n",
       "</style>\n",
       "<table border=\"1\" class=\"dataframe\">\n",
       "  <thead>\n",
       "    <tr style=\"text-align: right;\">\n",
       "      <th></th>\n",
       "      <th>Gender</th>\n",
       "      <th>Hypertension</th>\n",
       "      <th>Diabetes</th>\n",
       "      <th>No-show</th>\n",
       "      <th>ChronicIllness</th>\n",
       "      <th>ChronicIllnessGrp</th>\n",
       "    </tr>\n",
       "  </thead>\n",
       "  <tbody>\n",
       "    <tr>\n",
       "      <th>0</th>\n",
       "      <td>F</td>\n",
       "      <td>1</td>\n",
       "      <td>0</td>\n",
       "      <td>No</td>\n",
       "      <td>Yes</td>\n",
       "      <td>H Only</td>\n",
       "    </tr>\n",
       "    <tr>\n",
       "      <th>1</th>\n",
       "      <td>M</td>\n",
       "      <td>0</td>\n",
       "      <td>0</td>\n",
       "      <td>No</td>\n",
       "      <td>None</td>\n",
       "      <td>None</td>\n",
       "    </tr>\n",
       "    <tr>\n",
       "      <th>2</th>\n",
       "      <td>F</td>\n",
       "      <td>0</td>\n",
       "      <td>0</td>\n",
       "      <td>No</td>\n",
       "      <td>None</td>\n",
       "      <td>None</td>\n",
       "    </tr>\n",
       "    <tr>\n",
       "      <th>3</th>\n",
       "      <td>F</td>\n",
       "      <td>0</td>\n",
       "      <td>0</td>\n",
       "      <td>No</td>\n",
       "      <td>None</td>\n",
       "      <td>None</td>\n",
       "    </tr>\n",
       "    <tr>\n",
       "      <th>4</th>\n",
       "      <td>F</td>\n",
       "      <td>1</td>\n",
       "      <td>1</td>\n",
       "      <td>No</td>\n",
       "      <td>Yes</td>\n",
       "      <td>H and D</td>\n",
       "    </tr>\n",
       "  </tbody>\n",
       "</table>\n",
       "</div>"
      ],
      "text/plain": [
       "  Gender  Hypertension  Diabetes No-show ChronicIllness ChronicIllnessGrp\n",
       "0      F             1         0      No            Yes            H Only\n",
       "1      M             0         0      No           None              None\n",
       "2      F             0         0      No           None              None\n",
       "3      F             0         0      No           None              None\n",
       "4      F             1         1      No            Yes           H and D"
      ]
     },
     "execution_count": 33,
     "metadata": {},
     "output_type": "execute_result"
    }
   ],
   "source": [
    "## Create features to categorize the health conditions\n",
    "dfhd = df[['Gender', 'Hypertension', 'Diabetes', 'No-show']].copy()\n",
    "dfhd['ChronicIllness'] = dfhd.apply(lambda x: ChronicIllness(x.Hypertension, x.Diabetes), axis=1)\n",
    "dfhd['ChronicIllnessGrp'] = dfhd.apply(lambda x: ChronicIllnessGroup(x.Hypertension, x.Diabetes), axis=1)\n",
    "dfhd.head()"
   ]
  },
  {
   "cell_type": "code",
   "execution_count": 34,
   "metadata": {},
   "outputs": [
    {
     "data": {
      "image/png": "[encoded data removed]",
      "text/plain": [
       "<Figure size 1152x576 with 2 Axes>"
      ]
     },
     "metadata": {},
     "output_type": "display_data"
    }
   ],
   "source": [
    "# Create pie plots of the patients with chronic illnesses\n",
    "fig, ax = plt.subplots(1, 2, figsize=(16, 8))\n",
    "ax[0].pie(dfhd['ChronicIllness'].value_counts(), labels=dfhd['ChronicIllness'].value_counts().index, autopct='%1.1f%%', shadow=True, startangle=90)\n",
    "ax[1].pie(dfhd['ChronicIllnessGrp'].value_counts(), labels=dfhd['ChronicIllnessGrp'].value_counts().index, autopct='%1.1f%%', shadow=True, startangle=90)\n",
    "fig.suptitle('Distribution of patients with chronic illnesses in the No Show Appointment data', fontsize=20);"
   ]
  },
  {
   "cell_type": "code",
   "execution_count": 35,
   "metadata": {},
   "outputs": [
    {
     "data": {
      "text/html": [
       "<div>\n",
       "<style scoped>\n",
       "    .dataframe tbody tr th:only-of-type {\n",
       "        vertical-align: middle;\n",
       "    }\n",
       "\n",
       "    .dataframe tbody tr th {\n",
       "        vertical-align: top;\n",
       "    }\n",
       "\n",
       "    .dataframe thead th {\n",
       "        text-align: right;\n",
       "    }\n",
       "</style>\n",
       "<table border=\"1\" class=\"dataframe\">\n",
       "  <thead>\n",
       "    <tr style=\"text-align: right;\">\n",
       "      <th>No-show</th>\n",
       "      <th>No</th>\n",
       "      <th>Yes</th>\n",
       "    </tr>\n",
       "    <tr>\n",
       "      <th>ChronicIllness</th>\n",
       "      <th></th>\n",
       "      <th></th>\n",
       "    </tr>\n",
       "  </thead>\n",
       "  <tbody>\n",
       "    <tr>\n",
       "      <th>None</th>\n",
       "      <td>68913</td>\n",
       "      <td>18238</td>\n",
       "    </tr>\n",
       "    <tr>\n",
       "      <th>Yes</th>\n",
       "      <td>19134</td>\n",
       "      <td>4037</td>\n",
       "    </tr>\n",
       "  </tbody>\n",
       "</table>\n",
       "</div>"
      ],
      "text/plain": [
       "No-show            No    Yes\n",
       "ChronicIllness              \n",
       "None            68913  18238\n",
       "Yes             19134   4037"
      ]
     },
     "execution_count": 35,
     "metadata": {},
     "output_type": "execute_result"
    }
   ],
   "source": [
    "## Create cross tabulations to obtain the frequency of the health conditions against the patients' attendance\n",
    "crosstab_cn1 = pd.crosstab(dfhd['ChronicIllness'], dfhd['No-show'])\n",
    "#crosstab_cn1['%absent'] = round((crosstab_cn1['Yes']/crosstab_cn1['No'])*100, 2)\n",
    "crosstab_cn1"
   ]
  },
  {
   "cell_type": "code",
   "execution_count": 36,
   "metadata": {},
   "outputs": [
    {
     "data": {
      "text/html": [
       "<div>\n",
       "<style scoped>\n",
       "    .dataframe tbody tr th:only-of-type {\n",
       "        vertical-align: middle;\n",
       "    }\n",
       "\n",
       "    .dataframe tbody tr th {\n",
       "        vertical-align: top;\n",
       "    }\n",
       "\n",
       "    .dataframe thead th {\n",
       "        text-align: right;\n",
       "    }\n",
       "</style>\n",
       "<table border=\"1\" class=\"dataframe\">\n",
       "  <thead>\n",
       "    <tr style=\"text-align: right;\">\n",
       "      <th>No-show</th>\n",
       "      <th>No</th>\n",
       "      <th>Yes</th>\n",
       "    </tr>\n",
       "    <tr>\n",
       "      <th>ChronicIllnessGrp</th>\n",
       "      <th></th>\n",
       "      <th></th>\n",
       "    </tr>\n",
       "  </thead>\n",
       "  <tbody>\n",
       "    <tr>\n",
       "      <th>D Only</th>\n",
       "      <td>1167</td>\n",
       "      <td>289</td>\n",
       "    </tr>\n",
       "    <tr>\n",
       "      <th>H Only</th>\n",
       "      <td>12656</td>\n",
       "      <td>2615</td>\n",
       "    </tr>\n",
       "    <tr>\n",
       "      <th>H and D</th>\n",
       "      <td>5311</td>\n",
       "      <td>1133</td>\n",
       "    </tr>\n",
       "    <tr>\n",
       "      <th>None</th>\n",
       "      <td>68913</td>\n",
       "      <td>18238</td>\n",
       "    </tr>\n",
       "  </tbody>\n",
       "</table>\n",
       "</div>"
      ],
      "text/plain": [
       "No-show               No    Yes\n",
       "ChronicIllnessGrp              \n",
       "D Only              1167    289\n",
       "H Only             12656   2615\n",
       "H and D             5311   1133\n",
       "None               68913  18238"
      ]
     },
     "execution_count": 36,
     "metadata": {},
     "output_type": "execute_result"
    }
   ],
   "source": [
    "## Create cross tabulations to obtain the frequency of the each health condition(s) against the patients' attendance\n",
    "crosstab_cn2 = pd.crosstab(dfhd['ChronicIllnessGrp'], dfhd['No-show'])\n",
    "#crosstab_cn2['%absent'] = round((crosstab_cn2['Yes']/crosstab_cn2['No'])*100, 2)\n",
    "crosstab_cn2"
   ]
  },
  {
   "cell_type": "code",
   "execution_count": 37,
   "metadata": {},
   "outputs": [
    {
     "data": {
      "text/html": [
       "<div>\n",
       "<style scoped>\n",
       "    .dataframe tbody tr th:only-of-type {\n",
       "        vertical-align: middle;\n",
       "    }\n",
       "\n",
       "    .dataframe tbody tr th {\n",
       "        vertical-align: top;\n",
       "    }\n",
       "\n",
       "    .dataframe thead th {\n",
       "        text-align: right;\n",
       "    }\n",
       "</style>\n",
       "<table border=\"1\" class=\"dataframe\">\n",
       "  <thead>\n",
       "    <tr style=\"text-align: right;\">\n",
       "      <th>Gender</th>\n",
       "      <th>F</th>\n",
       "      <th>M</th>\n",
       "    </tr>\n",
       "    <tr>\n",
       "      <th>ChronicIllness</th>\n",
       "      <th></th>\n",
       "      <th></th>\n",
       "    </tr>\n",
       "  </thead>\n",
       "  <tbody>\n",
       "    <tr>\n",
       "      <th>None</th>\n",
       "      <td>55516</td>\n",
       "      <td>31635</td>\n",
       "    </tr>\n",
       "    <tr>\n",
       "      <th>Yes</th>\n",
       "      <td>16209</td>\n",
       "      <td>6962</td>\n",
       "    </tr>\n",
       "  </tbody>\n",
       "</table>\n",
       "</div>"
      ],
      "text/plain": [
       "Gender              F      M\n",
       "ChronicIllness              \n",
       "None            55516  31635\n",
       "Yes             16209   6962"
      ]
     },
     "execution_count": 37,
     "metadata": {},
     "output_type": "execute_result"
    }
   ],
   "source": [
    "## Create cross tabulations to explore the gender against the frequency of the health conditions\n",
    "pd.crosstab(dfhd['ChronicIllness'], dfhd['Gender'])"
   ]
  },
  {
   "cell_type": "code",
   "execution_count": 38,
   "metadata": {},
   "outputs": [
    {
     "data": {
      "image/png": "[encoded data removed]",
      "text/plain": [
       "<Figure size 1152x576 with 2 Axes>"
      ]
     },
     "metadata": {
      "needs_background": "light"
     },
     "output_type": "display_data"
    }
   ],
   "source": [
    "# Create bar plots of the frequency of patients with chronic illnesses and their attendance at appointment\n",
    "fig, ax = plt.subplots(1, 2, figsize=(16, 8))\n",
    "sns.countplot(ax=ax[0], x='ChronicIllness', hue='No-show', data=dfhd);\n",
    "sns.countplot(ax=ax[1], x='ChronicIllnessGrp', hue='No-show', data=dfhd);\n",
    "ax[0].set_xlabel('Chronic Illness of patients in the No Show Appointment Data')\n",
    "ax[0].set_ylabel('Number of patients')\n",
    "ax[1].set_xlabel('Chronic Illness Groups of patients in the No Show Appointment Data')\n",
    "ax[1].set_ylabel('Number of patients')\n",
    "fig.suptitle('Distribution of patients with chronic illnesses and attendance in the No Show Appointment data', fontsize=20);"
   ]
  },
  {
   "cell_type": "code",
   "execution_count": 39,
   "metadata": {},
   "outputs": [
    {
     "name": "stdout",
     "output_type": "stream",
     "text": [
      "The Chi square value is 139.27 with a probability of 0.0 at a degree of freedom of 1\n",
      "\n",
      "\n",
      "Expected Values: \n",
      " [[69555. 17597.]\n",
      " [18493.  4679.]]\n"
     ]
    }
   ],
   "source": [
    "## Is there any significant difference in the number of patients present and absent at the appointments\n",
    "# Using Chi Square test for the relationship between the chronic illness and the attendance of patients at appointments in a 2x2 table\n",
    "PrintChiSquare(crosstab_cn1)"
   ]
  },
  {
   "cell_type": "markdown",
   "metadata": {},
   "source": [
    "- _70.9% of the patients in the No Show Datasets were reported as not having either hypertension or diabetes, while the remaining 20.1% were reported having either hypertension or diabetes or both conditions at the same time_\n",
    "- _The proportion of patients absent from their appointment due to chronic illness ranged approximately between 20-25%. Similar proportion was observed with patients who did not have any of the chronic illnesses_\n",
    "- _The Chi square test indicates a statistically significant difference (P<0.05) in the number of patients having any chronic health conditions and absent at their appointments_"
   ]
  },
  {
   "cell_type": "markdown",
   "metadata": {},
   "source": [
    "_Reference for Chi square test retrieved from [pythonfordatascienceorg](https://pythonfordatascienceorg.wordpress.com/chi-square-python/)_\n",
    "_[Here](https://dev.to/thalesbruno/subplotting-with-matplotlib-and-seaborn-5ei8)_"
   ]
  },
  {
   "cell_type": "markdown",
   "metadata": {},
   "source": [
    "### Research Question 3 (Does scheduling impact their attendance at the appointments?) _Is the period between scheduled day and appointment day affecting the number of no-show appointments?_)"
   ]
  },
  {
   "cell_type": "code",
   "execution_count": 40,
   "metadata": {},
   "outputs": [
    {
     "data": {
      "text/html": [
       "<div>\n",
       "<style scoped>\n",
       "    .dataframe tbody tr th:only-of-type {\n",
       "        vertical-align: middle;\n",
       "    }\n",
       "\n",
       "    .dataframe tbody tr th {\n",
       "        vertical-align: top;\n",
       "    }\n",
       "\n",
       "    .dataframe thead th {\n",
       "        text-align: right;\n",
       "    }\n",
       "</style>\n",
       "<table border=\"1\" class=\"dataframe\">\n",
       "  <thead>\n",
       "    <tr style=\"text-align: right;\">\n",
       "      <th></th>\n",
       "      <th>ScheduledDay</th>\n",
       "      <th>AppointmentDay</th>\n",
       "      <th>No-show</th>\n",
       "      <th>Interval</th>\n",
       "    </tr>\n",
       "  </thead>\n",
       "  <tbody>\n",
       "    <tr>\n",
       "      <th>0</th>\n",
       "      <td>2016-04-29 18:38:08+00:00</td>\n",
       "      <td>2016-04-29 00:00:00+00:00</td>\n",
       "      <td>No</td>\n",
       "      <td>-18.635556</td>\n",
       "    </tr>\n",
       "    <tr>\n",
       "      <th>1</th>\n",
       "      <td>2016-04-29 16:08:27+00:00</td>\n",
       "      <td>2016-04-29 00:00:00+00:00</td>\n",
       "      <td>No</td>\n",
       "      <td>-16.140833</td>\n",
       "    </tr>\n",
       "    <tr>\n",
       "      <th>2</th>\n",
       "      <td>2016-04-29 16:19:04+00:00</td>\n",
       "      <td>2016-04-29 00:00:00+00:00</td>\n",
       "      <td>No</td>\n",
       "      <td>-16.317778</td>\n",
       "    </tr>\n",
       "    <tr>\n",
       "      <th>3</th>\n",
       "      <td>2016-04-29 17:29:31+00:00</td>\n",
       "      <td>2016-04-29 00:00:00+00:00</td>\n",
       "      <td>No</td>\n",
       "      <td>-17.491944</td>\n",
       "    </tr>\n",
       "    <tr>\n",
       "      <th>4</th>\n",
       "      <td>2016-04-29 16:07:23+00:00</td>\n",
       "      <td>2016-04-29 00:00:00+00:00</td>\n",
       "      <td>No</td>\n",
       "      <td>-16.123056</td>\n",
       "    </tr>\n",
       "  </tbody>\n",
       "</table>\n",
       "</div>"
      ],
      "text/plain": [
       "               ScheduledDay            AppointmentDay No-show   Interval\n",
       "0 2016-04-29 18:38:08+00:00 2016-04-29 00:00:00+00:00      No -18.635556\n",
       "1 2016-04-29 16:08:27+00:00 2016-04-29 00:00:00+00:00      No -16.140833\n",
       "2 2016-04-29 16:19:04+00:00 2016-04-29 00:00:00+00:00      No -16.317778\n",
       "3 2016-04-29 17:29:31+00:00 2016-04-29 00:00:00+00:00      No -17.491944\n",
       "4 2016-04-29 16:07:23+00:00 2016-04-29 00:00:00+00:00      No -16.123056"
      ]
     },
     "execution_count": 40,
     "metadata": {},
     "output_type": "execute_result"
    }
   ],
   "source": [
    "# Calculate the difference in time between the scheduled day and appointment day\n",
    "dfsch = df[['ScheduledDay', 'AppointmentDay', 'No-show']].copy()\n",
    "dfsch['Interval'] = (df['AppointmentDay']-df['ScheduledDay']) / pd.Timedelta(hours=1)\n",
    "dfsch.head()"
   ]
  },
  {
   "cell_type": "markdown",
   "metadata": {},
   "source": [
    "> The presence of negative difference in the period between the scheduled day and appointment day indicates some of the patients were scheduled after their appointments"
   ]
  },
  {
   "cell_type": "code",
   "execution_count": 41,
   "metadata": {},
   "outputs": [],
   "source": [
    "## Subset the population based on the scheduling of their appointments before or after\n",
    "dfsch_after = dfsch[dfsch['Interval'] < 0]\n",
    "dfsch_before = dfsch[dfsch['Interval'] > 0]"
   ]
  },
  {
   "cell_type": "code",
   "execution_count": 42,
   "metadata": {},
   "outputs": [
    {
     "data": {
      "text/html": [
       "<div>\n",
       "<style scoped>\n",
       "    .dataframe tbody tr th:only-of-type {\n",
       "        vertical-align: middle;\n",
       "    }\n",
       "\n",
       "    .dataframe tbody tr th {\n",
       "        vertical-align: top;\n",
       "    }\n",
       "\n",
       "    .dataframe thead th {\n",
       "        text-align: right;\n",
       "    }\n",
       "</style>\n",
       "<table border=\"1\" class=\"dataframe\">\n",
       "  <thead>\n",
       "    <tr style=\"text-align: right;\">\n",
       "      <th></th>\n",
       "      <th>count</th>\n",
       "      <th>mean</th>\n",
       "      <th>std</th>\n",
       "      <th>min</th>\n",
       "      <th>25%</th>\n",
       "      <th>50%</th>\n",
       "      <th>75%</th>\n",
       "      <th>max</th>\n",
       "    </tr>\n",
       "    <tr>\n",
       "      <th>No-show</th>\n",
       "      <th></th>\n",
       "      <th></th>\n",
       "      <th></th>\n",
       "      <th></th>\n",
       "      <th></th>\n",
       "      <th></th>\n",
       "      <th></th>\n",
       "      <th></th>\n",
       "    </tr>\n",
       "  </thead>\n",
       "  <tbody>\n",
       "    <tr>\n",
       "      <th>No</th>\n",
       "      <td>36696.0</td>\n",
       "      <td>-10.685586</td>\n",
       "      <td>3.022967</td>\n",
       "      <td>-20.748333</td>\n",
       "      <td>-13.249514</td>\n",
       "      <td>-9.752778</td>\n",
       "      <td>-8.121944</td>\n",
       "      <td>-6.160000</td>\n",
       "    </tr>\n",
       "    <tr>\n",
       "      <th>Yes</th>\n",
       "      <td>1793.0</td>\n",
       "      <td>-10.961880</td>\n",
       "      <td>4.792222</td>\n",
       "      <td>-157.822222</td>\n",
       "      <td>-13.471944</td>\n",
       "      <td>-9.914444</td>\n",
       "      <td>-8.218611</td>\n",
       "      <td>-6.446111</td>\n",
       "    </tr>\n",
       "  </tbody>\n",
       "</table>\n",
       "</div>"
      ],
      "text/plain": [
       "           count       mean       std         min        25%       50%  \\\n",
       "No-show                                                                  \n",
       "No       36696.0 -10.685586  3.022967  -20.748333 -13.249514 -9.752778   \n",
       "Yes       1793.0 -10.961880  4.792222 -157.822222 -13.471944 -9.914444   \n",
       "\n",
       "              75%       max  \n",
       "No-show                      \n",
       "No      -8.121944 -6.160000  \n",
       "Yes     -8.218611 -6.446111  "
      ]
     },
     "execution_count": 42,
     "metadata": {},
     "output_type": "execute_result"
    }
   ],
   "source": [
    "## Describe the measures of central tendency and spread of the patients scheduled after appointments\n",
    "dfsch_after.groupby(['No-show'])['Interval'].describe()"
   ]
  },
  {
   "cell_type": "code",
   "execution_count": 43,
   "metadata": {},
   "outputs": [
    {
     "name": "stdout",
     "output_type": "stream",
     "text": [
      "38489 patients in the No Show Appointment data were scheduled after their Appointment Day at an average of -10.7 hours\n"
     ]
    }
   ],
   "source": [
    "print(f\"{len(dfsch_after)} patients in the No Show Appointment data were scheduled after their Appointment Day at an average of {round(dfsch_after['Interval'].mean(), 2)} hours\")"
   ]
  },
  {
   "cell_type": "markdown",
   "metadata": {},
   "source": [
    "_36,696 out of 38,489 (~95%) patients on the average showed up on the appointment day. **With the mean(std) of ~-10.7(3.0), I presume that majority of the patients were scheduled averagely on the same day of their appointments**_"
   ]
  },
  {
   "cell_type": "markdown",
   "metadata": {},
   "source": [
    "> For those scheduled before the appointment day"
   ]
  },
  {
   "cell_type": "code",
   "execution_count": 44,
   "metadata": {},
   "outputs": [
    {
     "name": "stdout",
     "output_type": "stream",
     "text": [
      "71833 patients in the No Show Appointment data were scheduled before their Appointment Day at an average of 363.91 hours\n"
     ]
    }
   ],
   "source": [
    "print(f\"{len(dfsch_before)} patients in the No Show Appointment data were scheduled before their Appointment Day at an average of {round(dfsch_before['Interval'].mean(), 2)} hours\")"
   ]
  },
  {
   "cell_type": "code",
   "execution_count": 45,
   "metadata": {},
   "outputs": [
    {
     "data": {
      "text/html": [
       "<div>\n",
       "<style scoped>\n",
       "    .dataframe tbody tr th:only-of-type {\n",
       "        vertical-align: middle;\n",
       "    }\n",
       "\n",
       "    .dataframe tbody tr th {\n",
       "        vertical-align: top;\n",
       "    }\n",
       "\n",
       "    .dataframe thead th {\n",
       "        text-align: right;\n",
       "    }\n",
       "</style>\n",
       "<table border=\"1\" class=\"dataframe\">\n",
       "  <thead>\n",
       "    <tr style=\"text-align: right;\">\n",
       "      <th></th>\n",
       "      <th>No-show</th>\n",
       "    </tr>\n",
       "  </thead>\n",
       "  <tbody>\n",
       "    <tr>\n",
       "      <th>No</th>\n",
       "      <td>51351</td>\n",
       "    </tr>\n",
       "    <tr>\n",
       "      <th>Yes</th>\n",
       "      <td>20482</td>\n",
       "    </tr>\n",
       "  </tbody>\n",
       "</table>\n",
       "</div>"
      ],
      "text/plain": [
       "     No-show\n",
       "No     51351\n",
       "Yes    20482"
      ]
     },
     "execution_count": 45,
     "metadata": {},
     "output_type": "execute_result"
    }
   ],
   "source": [
    "BreakDownByColumn(dfsch_before, 'No-show')"
   ]
  },
  {
   "cell_type": "markdown",
   "metadata": {},
   "source": [
    "_A total of 20,482 (~29%) of those that scheduled before the appointment date did not show up for their appointment_"
   ]
  },
  {
   "cell_type": "code",
   "execution_count": 46,
   "metadata": {},
   "outputs": [
    {
     "data": {
      "text/html": [
       "<div>\n",
       "<style scoped>\n",
       "    .dataframe tbody tr th:only-of-type {\n",
       "        vertical-align: middle;\n",
       "    }\n",
       "\n",
       "    .dataframe tbody tr th {\n",
       "        vertical-align: top;\n",
       "    }\n",
       "\n",
       "    .dataframe thead th {\n",
       "        text-align: right;\n",
       "    }\n",
       "</style>\n",
       "<table border=\"1\" class=\"dataframe\">\n",
       "  <thead>\n",
       "    <tr style=\"text-align: right;\">\n",
       "      <th></th>\n",
       "      <th>ScheduledDay</th>\n",
       "      <th>AppointmentDay</th>\n",
       "      <th>No-show</th>\n",
       "      <th>Interval</th>\n",
       "    </tr>\n",
       "  </thead>\n",
       "  <tbody>\n",
       "    <tr>\n",
       "      <th>5</th>\n",
       "      <td>2016-04-27 08:36:51+00:00</td>\n",
       "      <td>2016-04-29 00:00:00+00:00</td>\n",
       "      <td>No</td>\n",
       "      <td>39.385833</td>\n",
       "    </tr>\n",
       "    <tr>\n",
       "      <th>6</th>\n",
       "      <td>2016-04-27 15:05:12+00:00</td>\n",
       "      <td>2016-04-29 00:00:00+00:00</td>\n",
       "      <td>Yes</td>\n",
       "      <td>32.913333</td>\n",
       "    </tr>\n",
       "    <tr>\n",
       "      <th>7</th>\n",
       "      <td>2016-04-27 15:39:58+00:00</td>\n",
       "      <td>2016-04-29 00:00:00+00:00</td>\n",
       "      <td>Yes</td>\n",
       "      <td>32.333889</td>\n",
       "    </tr>\n",
       "    <tr>\n",
       "      <th>9</th>\n",
       "      <td>2016-04-27 12:48:25+00:00</td>\n",
       "      <td>2016-04-29 00:00:00+00:00</td>\n",
       "      <td>No</td>\n",
       "      <td>35.193056</td>\n",
       "    </tr>\n",
       "    <tr>\n",
       "      <th>10</th>\n",
       "      <td>2016-04-27 14:58:11+00:00</td>\n",
       "      <td>2016-04-29 00:00:00+00:00</td>\n",
       "      <td>No</td>\n",
       "      <td>33.030278</td>\n",
       "    </tr>\n",
       "  </tbody>\n",
       "</table>\n",
       "</div>"
      ],
      "text/plain": [
       "                ScheduledDay            AppointmentDay No-show   Interval\n",
       "5  2016-04-27 08:36:51+00:00 2016-04-29 00:00:00+00:00      No  39.385833\n",
       "6  2016-04-27 15:05:12+00:00 2016-04-29 00:00:00+00:00     Yes  32.913333\n",
       "7  2016-04-27 15:39:58+00:00 2016-04-29 00:00:00+00:00     Yes  32.333889\n",
       "9  2016-04-27 12:48:25+00:00 2016-04-29 00:00:00+00:00      No  35.193056\n",
       "10 2016-04-27 14:58:11+00:00 2016-04-29 00:00:00+00:00      No  33.030278"
      ]
     },
     "execution_count": 46,
     "metadata": {},
     "output_type": "execute_result"
    }
   ],
   "source": [
    "dfsch_before.head()"
   ]
  },
  {
   "cell_type": "code",
   "execution_count": 47,
   "metadata": {},
   "outputs": [
    {
     "data": {
      "image/png": "[encoded data removed]",
      "text/plain": [
       "<Figure size 576x576 with 1 Axes>"
      ]
     },
     "metadata": {},
     "output_type": "display_data"
    }
   ],
   "source": [
    "# Create a pie plot of the patients who were scheduled before their appointment dates to explore those that missed or attended their appointments\n",
    "fig, ax = plt.subplots(1, 1, figsize=(8, 8))\n",
    "ax.pie(dfsch_before['No-show'].value_counts(), labels=dfsch_before['No-show'].value_counts().index, autopct='%1.1f%%', shadow=True, startangle=90)\n",
    "fig.suptitle('Distribution of attendance of patients \\n who were scheduled before the appointment day in the No Show Appointment data', fontsize=20);"
   ]
  },
  {
   "cell_type": "code",
   "execution_count": 48,
   "metadata": {},
   "outputs": [
    {
     "data": {
      "text/html": [
       "<div>\n",
       "<style scoped>\n",
       "    .dataframe tbody tr th:only-of-type {\n",
       "        vertical-align: middle;\n",
       "    }\n",
       "\n",
       "    .dataframe tbody tr th {\n",
       "        vertical-align: top;\n",
       "    }\n",
       "\n",
       "    .dataframe thead th {\n",
       "        text-align: right;\n",
       "    }\n",
       "</style>\n",
       "<table border=\"1\" class=\"dataframe\">\n",
       "  <thead>\n",
       "    <tr style=\"text-align: right;\">\n",
       "      <th></th>\n",
       "      <th>count</th>\n",
       "      <th>mean</th>\n",
       "      <th>std</th>\n",
       "      <th>min</th>\n",
       "      <th>25%</th>\n",
       "      <th>50%</th>\n",
       "      <th>75%</th>\n",
       "      <th>max</th>\n",
       "    </tr>\n",
       "    <tr>\n",
       "      <th>No-show</th>\n",
       "      <th></th>\n",
       "      <th></th>\n",
       "      <th></th>\n",
       "      <th></th>\n",
       "      <th></th>\n",
       "      <th></th>\n",
       "      <th></th>\n",
       "      <th></th>\n",
       "    </tr>\n",
       "  </thead>\n",
       "  <tbody>\n",
       "    <tr>\n",
       "      <th>No</th>\n",
       "      <td>51351.0</td>\n",
       "      <td>348.931169</td>\n",
       "      <td>393.761071</td>\n",
       "      <td>3.272222</td>\n",
       "      <td>83.334444</td>\n",
       "      <td>183.938611</td>\n",
       "      <td>495.537500</td>\n",
       "      <td>4285.288333</td>\n",
       "    </tr>\n",
       "    <tr>\n",
       "      <th>Yes</th>\n",
       "      <td>20482.0</td>\n",
       "      <td>401.478228</td>\n",
       "      <td>398.523206</td>\n",
       "      <td>3.320278</td>\n",
       "      <td>109.778958</td>\n",
       "      <td>301.378194</td>\n",
       "      <td>590.921736</td>\n",
       "      <td>4285.316944</td>\n",
       "    </tr>\n",
       "  </tbody>\n",
       "</table>\n",
       "</div>"
      ],
      "text/plain": [
       "           count        mean         std       min         25%         50%  \\\n",
       "No-show                                                                      \n",
       "No       51351.0  348.931169  393.761071  3.272222   83.334444  183.938611   \n",
       "Yes      20482.0  401.478228  398.523206  3.320278  109.778958  301.378194   \n",
       "\n",
       "                75%          max  \n",
       "No-show                           \n",
       "No       495.537500  4285.288333  \n",
       "Yes      590.921736  4285.316944  "
      ]
     },
     "execution_count": 48,
     "metadata": {},
     "output_type": "execute_result"
    }
   ],
   "source": [
    "dfsch_before.groupby(['No-show'])['Interval'].describe()"
   ]
  },
  {
   "cell_type": "markdown",
   "metadata": {},
   "source": [
    "_The spread (std) of the time around the mean is too wide. This spread indicates that some patients had a lot of time in hours between the scheduled date and appointment date compared to the avarage of those who scheduled before appointment_"
   ]
  },
  {
   "cell_type": "code",
   "execution_count": 49,
   "metadata": {},
   "outputs": [
    {
     "data": {
      "image/png": "[encoded data removed]",
      "text/plain": [
       "<Figure size 1152x576 with 2 Axes>"
      ]
     },
     "metadata": {
      "needs_background": "light"
     },
     "output_type": "display_data"
    }
   ],
   "source": [
    "# Create plots to show the spread of the time difference of the patients who scheduled before their appointment day\n",
    "fig, ax = plt.subplots(1, 2, figsize=(16, 8))\n",
    "sns.histplot(ax=ax[0], data=dfsch_before, x='Interval', hue='No-show', log_scale=True, cumulative=True);\n",
    "ax[0].set_title('Cumulative frequency of the hours before appointments')\n",
    "ax[0].set_xlabel('Log scale 10 of the hours interval for patients \\n who were scheduled before the appointment date')\n",
    "ax[0].set_ylabel('Number of patients')\n",
    "sns.boxplot(ax=ax[1], data=dfsch_before, x='Interval', y='No-show');\n",
    "ax[1].set_title('Spread of the hours before appointments')\n",
    "ax[1].set_xlabel('Number of the hours interval for patients \\n who were scheduled before the appointment date')\n",
    "ax[1].set_ylabel('No show attendance of patients')\n",
    "fig.suptitle('Spread of hours for patients who were scheduled \\n before the appointment day in the No Show Appointment data', fontsize=20);"
   ]
  },
  {
   "cell_type": "code",
   "execution_count": 50,
   "metadata": {},
   "outputs": [
    {
     "name": "stdout",
     "output_type": "stream",
     "text": [
      "There are 0 outliers lesser than the lower boundary of -600.3 hours\n",
      "There are 8195 outliers greater than the upper boundary of 673.3 hours\n"
     ]
    }
   ],
   "source": [
    "## How many outliers in the data for those that scheduled before their appointments and were present\n",
    "Nodf = dfsch_before[dfsch_before['No-show']=='No']\n",
    "NoQ3 = np.quantile(Nodf['Interval'], 0.75)\n",
    "NoQ1 = np.quantile(Nodf['Interval'], 0.25)\n",
    "Nolower_boundary = round(Q1 - 1.5 *(NoQ3-NoQ1), 2)\n",
    "Noupper_boundary = round(Q3 + 1.5 *(NoQ3-NoQ1), 2)\n",
    "print(f\"There are {len(Nodf[Nodf['Interval'] < Nolower_boundary])} outliers lesser than the lower boundary of {Nolower_boundary} hours\")\n",
    "print(f\"There are {len(Nodf[Nodf['Interval'] > Noupper_boundary])} outliers greater than the upper boundary of {Noupper_boundary} hours\")"
   ]
  },
  {
   "cell_type": "code",
   "execution_count": 51,
   "metadata": {},
   "outputs": [
    {
     "name": "stdout",
     "output_type": "stream",
     "text": [
      "There are 0 outliers lesser than the lower boundary of -703.71 hours\n",
      "There are 2956 outliers greater than the upper boundary of 776.71 hours\n"
     ]
    }
   ],
   "source": [
    "## How many outliers in the data for those that scheduled before their appointments and were absent\n",
    "Yesdf = dfsch_before[dfsch_before['No-show']=='Yes']\n",
    "YesQ3 = np.quantile(Yesdf['Interval'], 0.75)\n",
    "YesQ1 = np.quantile(Yesdf['Interval'], 0.25)\n",
    "Yeslower_boundary = round(Q1 - 1.5 *(YesQ3-YesQ1), 2)\n",
    "Yesupper_boundary = round(Q3 + 1.5 *(YesQ3-YesQ1), 2)\n",
    "print(f\"There are {len(Yesdf[Yesdf['Interval'] < Yeslower_boundary])} outliers lesser than the lower boundary of {Yeslower_boundary} hours\")\n",
    "print(f\"There are {len(Yesdf[Yesdf['Interval'] > Yesupper_boundary])} outliers greater than the upper boundary of {Yesupper_boundary} hours\")"
   ]
  },
  {
   "cell_type": "code",
   "execution_count": 52,
   "metadata": {},
   "outputs": [
    {
     "data": {
      "text/plain": [
       "Ttest_indResult(statistic=-16.09210373719385, pvalue=3.664580612476308e-58)"
      ]
     },
     "execution_count": 52,
     "metadata": {},
     "output_type": "execute_result"
    }
   ],
   "source": [
    "## Is there any significant difference in the number of hours scheduled before appointments and attendance\n",
    "# Using Indenpendent T-test for the difference between the time periods and the attendance of patients at appointments\n",
    "stats.ttest_ind(Nodf['Interval'], Yesdf['Interval'])"
   ]
  },
  {
   "cell_type": "markdown",
   "metadata": {},
   "source": [
    "- _The cumulative frequency of the log scale of the number of hours plateaued for both attendance after rising to a point_\n",
    "- _The spread in the boxplot shows extra number of hours as outliers beyond the 75th percentile_\n",
    "- _The T-test indicates a statistically significant difference (P<0.05) in the time periods scheduled before appointments and the attendance of patients at their appointments_"
   ]
  },
  {
   "cell_type": "markdown",
   "metadata": {},
   "source": [
    "- _Reference for calculating the [time difference](https://stackoverflow.com/questions/22923775/calculate-time-difference-between-two-pandas-columns-in-hours-and-minutes)_\n",
    "- _Reference for [HistPlots with Seaborn](https://seaborn.pydata.org/generated/seaborn.histplot.html), [BoxPlots with Seaborn](https://seaborn.pydata.org/generated/seaborn.histplot.html)_\n",
    "- _Reference for [Independent T-tests](https://www.pythonfordatascience.org/independent-samples-t-test-python/)_"
   ]
  },
  {
   "cell_type": "markdown",
   "metadata": {},
   "source": [
    "### Research Question 4 (Do SMS reminders decrease the number of absences? _Do SMS reminders increase the attendance on appointment days?_)"
   ]
  },
  {
   "cell_type": "code",
   "execution_count": 53,
   "metadata": {},
   "outputs": [
    {
     "data": {
      "text/html": [
       "<div>\n",
       "<style scoped>\n",
       "    .dataframe tbody tr th:only-of-type {\n",
       "        vertical-align: middle;\n",
       "    }\n",
       "\n",
       "    .dataframe tbody tr th {\n",
       "        vertical-align: top;\n",
       "    }\n",
       "\n",
       "    .dataframe thead th {\n",
       "        text-align: right;\n",
       "    }\n",
       "</style>\n",
       "<table border=\"1\" class=\"dataframe\">\n",
       "  <thead>\n",
       "    <tr style=\"text-align: right;\">\n",
       "      <th></th>\n",
       "      <th>Age</th>\n",
       "      <th>Gender</th>\n",
       "      <th>SMS_received</th>\n",
       "      <th>No-show</th>\n",
       "      <th>AgeGrp</th>\n",
       "    </tr>\n",
       "  </thead>\n",
       "  <tbody>\n",
       "    <tr>\n",
       "      <th>0</th>\n",
       "      <td>62</td>\n",
       "      <td>Female</td>\n",
       "      <td>No SMS</td>\n",
       "      <td>No</td>\n",
       "      <td>Senior Adult</td>\n",
       "    </tr>\n",
       "    <tr>\n",
       "      <th>1</th>\n",
       "      <td>56</td>\n",
       "      <td>Male</td>\n",
       "      <td>No SMS</td>\n",
       "      <td>No</td>\n",
       "      <td>Adult</td>\n",
       "    </tr>\n",
       "    <tr>\n",
       "      <th>2</th>\n",
       "      <td>62</td>\n",
       "      <td>Female</td>\n",
       "      <td>No SMS</td>\n",
       "      <td>No</td>\n",
       "      <td>Senior Adult</td>\n",
       "    </tr>\n",
       "    <tr>\n",
       "      <th>3</th>\n",
       "      <td>8</td>\n",
       "      <td>Female</td>\n",
       "      <td>No SMS</td>\n",
       "      <td>No</td>\n",
       "      <td>Child</td>\n",
       "    </tr>\n",
       "    <tr>\n",
       "      <th>4</th>\n",
       "      <td>56</td>\n",
       "      <td>Female</td>\n",
       "      <td>No SMS</td>\n",
       "      <td>No</td>\n",
       "      <td>Adult</td>\n",
       "    </tr>\n",
       "  </tbody>\n",
       "</table>\n",
       "</div>"
      ],
      "text/plain": [
       "   Age  Gender SMS_received No-show        AgeGrp\n",
       "0   62  Female       No SMS      No  Senior Adult\n",
       "1   56    Male       No SMS      No         Adult\n",
       "2   62  Female       No SMS      No  Senior Adult\n",
       "3    8  Female       No SMS      No         Child\n",
       "4   56  Female       No SMS      No         Adult"
      ]
     },
     "execution_count": 53,
     "metadata": {},
     "output_type": "execute_result"
    }
   ],
   "source": [
    "## Make a copy of the original data\n",
    "dfsms = df[['Age', 'Gender', 'SMS_received', 'No-show']].copy()\n",
    "dfsms['AgeGrp'] = dfsms['Age'].apply(AgeGroups)\n",
    "dfsms['Gender'] = dfsms['Gender'].apply(lambda x : 'Male' if x=='M' else 'Female')\n",
    "dfsms['SMS_received'] = dfsms['SMS_received'].apply(lambda x : 'Yes, Received' if x==1 else 'No SMS')\n",
    "dfsms.head()"
   ]
  },
  {
   "cell_type": "code",
   "execution_count": 54,
   "metadata": {},
   "outputs": [
    {
     "data": {
      "text/html": [
       "<div>\n",
       "<style scoped>\n",
       "    .dataframe tbody tr th:only-of-type {\n",
       "        vertical-align: middle;\n",
       "    }\n",
       "\n",
       "    .dataframe tbody tr th {\n",
       "        vertical-align: top;\n",
       "    }\n",
       "\n",
       "    .dataframe thead th {\n",
       "        text-align: right;\n",
       "    }\n",
       "</style>\n",
       "<table border=\"1\" class=\"dataframe\">\n",
       "  <thead>\n",
       "    <tr style=\"text-align: right;\">\n",
       "      <th>No-show</th>\n",
       "      <th>No</th>\n",
       "      <th>Yes</th>\n",
       "    </tr>\n",
       "    <tr>\n",
       "      <th>SMS_received</th>\n",
       "      <th></th>\n",
       "      <th></th>\n",
       "    </tr>\n",
       "  </thead>\n",
       "  <tbody>\n",
       "    <tr>\n",
       "      <th>No SMS</th>\n",
       "      <td>62388</td>\n",
       "      <td>12500</td>\n",
       "    </tr>\n",
       "    <tr>\n",
       "      <th>Yes, Received</th>\n",
       "      <td>25659</td>\n",
       "      <td>9775</td>\n",
       "    </tr>\n",
       "  </tbody>\n",
       "</table>\n",
       "</div>"
      ],
      "text/plain": [
       "No-show           No    Yes\n",
       "SMS_received               \n",
       "No SMS         62388  12500\n",
       "Yes, Received  25659   9775"
      ]
     },
     "execution_count": 54,
     "metadata": {},
     "output_type": "execute_result"
    }
   ],
   "source": [
    "## Create cross tabulations to obtain the frequency of patients that received SMS against their attendance\n",
    "crosstab_sms = pd.crosstab(dfsms['SMS_received'], dfsms['No-show'])\n",
    "#crosstab_sms['%absent'] = round((crosstab_sms['Yes']/crosstab_sms['No'])*100, 2)\n",
    "crosstab_sms"
   ]
  },
  {
   "cell_type": "code",
   "execution_count": 55,
   "metadata": {},
   "outputs": [
    {
     "data": {
      "text/html": [
       "<div>\n",
       "<style scoped>\n",
       "    .dataframe tbody tr th:only-of-type {\n",
       "        vertical-align: middle;\n",
       "    }\n",
       "\n",
       "    .dataframe tbody tr th {\n",
       "        vertical-align: top;\n",
       "    }\n",
       "\n",
       "    .dataframe thead th {\n",
       "        text-align: right;\n",
       "    }\n",
       "</style>\n",
       "<table border=\"1\" class=\"dataframe\">\n",
       "  <thead>\n",
       "    <tr style=\"text-align: right;\">\n",
       "      <th></th>\n",
       "      <th></th>\n",
       "      <th></th>\n",
       "      <th>No-show</th>\n",
       "    </tr>\n",
       "    <tr>\n",
       "      <th>Gender</th>\n",
       "      <th>SMS_received</th>\n",
       "      <th>No-show</th>\n",
       "      <th></th>\n",
       "    </tr>\n",
       "  </thead>\n",
       "  <tbody>\n",
       "    <tr>\n",
       "      <th rowspan=\"4\" valign=\"top\">Female</th>\n",
       "      <th rowspan=\"2\" valign=\"top\">No SMS</th>\n",
       "      <th>No</th>\n",
       "      <td>39697</td>\n",
       "    </tr>\n",
       "    <tr>\n",
       "      <th>Yes</th>\n",
       "      <td>7852</td>\n",
       "    </tr>\n",
       "    <tr>\n",
       "      <th rowspan=\"2\" valign=\"top\">Yes, Received</th>\n",
       "      <th>No</th>\n",
       "      <td>17463</td>\n",
       "    </tr>\n",
       "    <tr>\n",
       "      <th>Yes</th>\n",
       "      <td>6713</td>\n",
       "    </tr>\n",
       "    <tr>\n",
       "      <th rowspan=\"4\" valign=\"top\">Male</th>\n",
       "      <th rowspan=\"2\" valign=\"top\">No SMS</th>\n",
       "      <th>No</th>\n",
       "      <td>22691</td>\n",
       "    </tr>\n",
       "    <tr>\n",
       "      <th>Yes</th>\n",
       "      <td>4648</td>\n",
       "    </tr>\n",
       "    <tr>\n",
       "      <th rowspan=\"2\" valign=\"top\">Yes, Received</th>\n",
       "      <th>No</th>\n",
       "      <td>8196</td>\n",
       "    </tr>\n",
       "    <tr>\n",
       "      <th>Yes</th>\n",
       "      <td>3062</td>\n",
       "    </tr>\n",
       "  </tbody>\n",
       "</table>\n",
       "</div>"
      ],
      "text/plain": [
       "                              No-show\n",
       "Gender SMS_received  No-show         \n",
       "Female No SMS        No         39697\n",
       "                     Yes         7852\n",
       "       Yes, Received No         17463\n",
       "                     Yes         6713\n",
       "Male   No SMS        No         22691\n",
       "                     Yes         4648\n",
       "       Yes, Received No          8196\n",
       "                     Yes         3062"
      ]
     },
     "execution_count": 55,
     "metadata": {},
     "output_type": "execute_result"
    }
   ],
   "source": [
    "pd.DataFrame(dfsms.groupby(['Gender','SMS_received'])['No-show'].value_counts())"
   ]
  },
  {
   "cell_type": "code",
   "execution_count": 56,
   "metadata": {},
   "outputs": [],
   "source": [
    "#pd.DataFrame(dfsms.groupby(['AgeGrp','SMS_received'])['No-show'].value_counts())"
   ]
  },
  {
   "cell_type": "code",
   "execution_count": 57,
   "metadata": {},
   "outputs": [
    {
     "data": {
      "image/png": "[encoded data removed]",
      "text/plain": [
       "<Figure size 576x576 with 1 Axes>"
      ]
     },
     "metadata": {
      "needs_background": "light"
     },
     "output_type": "display_data"
    }
   ],
   "source": [
    "# Create a bar plot of the patients with chronic illnesses and their attendance at appointment\n",
    "fig, ax = plt.subplots(1, 1, figsize=(8, 8))\n",
    "ax = sns.countplot(x='SMS_received', hue='No-show', data=dfsms);\n",
    "ax.set_xlabel('SMS receipts of patients in the No Show Appointment Data')\n",
    "ax.set_ylabel('Number of patients')\n",
    "fig.suptitle('Distribution of patients who received SMS \\n and their attendance in the No Show Appointment data', fontsize=20);"
   ]
  },
  {
   "cell_type": "code",
   "execution_count": 58,
   "metadata": {},
   "outputs": [
    {
     "name": "stdout",
     "output_type": "stream",
     "text": [
      "The Chi square value is 1771.1 with a probability of 0.0 at a degree of freedom of 1\n",
      "\n",
      "\n",
      "Expected Values: \n",
      " [[59768. 15121.]\n",
      " [28280.  7155.]]\n"
     ]
    }
   ],
   "source": [
    "## Is there any significant difference in the number of patients present and absent at the appointments\n",
    "#chi2, p, dof, expected = stats.chi2_contingency(crosstab)\n",
    "# Using Chi Square test for the relationship between the chronic illness and the attendance of patients at appointments\n",
    "PrintChiSquare(crosstab_sms)"
   ]
  },
  {
   "cell_type": "markdown",
   "metadata": {},
   "source": [
    "- _~56.6%(62,388) out of 110,322 patients (more than half) did not received SMS as reminders for their appointment, and were present at attendance. This proportion is high and may be worthy of note on other factor that may have encouraged this number rather than the SMS reminders_\n",
    "- _The Chi square test indicates a statistically significant difference (P<0.05) in the number of patients receiving SMS and yet absent at their appointments (~8.9% of the population)_"
   ]
  },
  {
   "cell_type": "markdown",
   "metadata": {},
   "source": [
    "<a id='conclusions'></a>\n",
    "## Conclusions _(limited to my investigations)_\n",
    "- The No Show Appointment dataset shows a large proportion of adults above 20 years of age (72.4%) scheduled for appointments in the various hospitals. There are more women(65.0%) than men(35.0%).\n",
    "- The proportion of patients absent from their appointment due to chronic illness ranged approximately between 20-25% depending on the illness, was significant when compared to those without any reported illnesses.\n",
    "- The scheduling period for the patient reported two trends where:\n",
    ">- i. 38,489 out of 110,322 patients (~ 34.9%) were scheduled after their appointments. The records of their schedules must have been entered after their appointments (which they missed or where re-scheduled).\n",
    ">- ii. others (~ 65.1%) were scheduled before their appointments for an average time period of about 348.93 hours (~ 14 days) for those that showed up for their appointments. The plateau phase observed on the cumulative frequency of patients who scheduled before appointments may be due to the presence of _outliers_, as individuals who gave a very long gap or interval between the schedule aan appointment dates.\n",
    "- Other factors may contribute to the attendance of patients who did not receive the SMS, but the proportion of patients who received the SMS and yet were absent at their appointments (~ 8.9% of the population) was significant.\n",
    "\n",
    "## Limitations / Challenges\n",
    "- Despite the large number of observations in the dataset, getting the real picture of the attendance of the patients requires deeper exploration and feature extraction to breakdown the impacts of the recorded characteristics."
   ]
  },
  {
   "cell_type": "code",
   "execution_count": 59,
   "metadata": {},
   "outputs": [
    {
     "data": {
      "text/plain": [
       "1"
      ]
     },
     "execution_count": 59,
     "metadata": {},
     "output_type": "execute_result"
    }
   ],
   "source": [
    "from subprocess import call\n",
    "call(['python', '-m', 'nbconvert', 'Investigate_a_Dataset-Workfile.ipynb'])"
   ]
  }
 ],
 "metadata": {
  "kernelspec": {
   "display_name": "Python 3",
   "language": "python",
   "name": "python3"
  },
  "language_info": {
   "codemirror_mode": {
    "name": "ipython",
    "version": 3
   },
   "file_extension": ".py",
   "mimetype": "text/x-python",
   "name": "python",
   "nbconvert_exporter": "python",
   "pygments_lexer": "ipython3",
   "version": "3.8.1"
  }
 },
 "nbformat": 4,
 "nbformat_minor": 4
}
