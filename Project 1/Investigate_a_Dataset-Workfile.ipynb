{
 "cells": [
  {
   "cell_type": "markdown",
   "metadata": {},
   "source": [
    "# Project: Investigate a Dataset - No Show Appointments\n",
    "\n",
    "## Table of Contents\n",
    "<ul>\n",
    "<li><a href=\"#intro\">Introduction</a></li>\n",
    "<li><a href=\"#wrangling\">Data Wrangling</a></li>\n",
    "<li><a href=\"#eda\">Exploratory Data Analysis</a></li>\n",
    "<li><a href=\"#conclusions\">Conclusions</a></li>\n",
    "</ul>"
   ]
  },
  {
   "cell_type": "markdown",
   "metadata": {},
   "source": [
    "<a id='intro'></a>\n",
    "## Introduction\n",
    "\n",
    "### Dataset Description \n",
    "\n",
    "> The No Show Appointment dataset consist of patients' demographic and health information (14 associated variables or characteristics) collected from approximately 110,527 medical appointments in Brazil. The dataset is focused on answering the question of whether or not the patients show up for their appointments. The following information below are contained in the patients' data:\n",
    "> - Patient Identification Number\n",
    "> - Appointment Identifier\n",
    "> - Gender (Male M or Female F)\n",
    "> - Scheduled Day of Appointment\n",
    "> - Appointment Day\n",
    "> - Age of Patients\n",
    "> - Neighbourhood (Where the hospitals are located)\n",
    "> - Scholarship (If patients are enrolled in the [Brasilian welfare program Bolsa Família](https://en.wikipedia.org/wiki/Bolsa_Fam%C3%ADlia))\n",
    "> - Hipertension (Hypertension)\n",
    "> - Diabetes\n",
    "> - Alcoholism\n",
    "> - Handcap\n",
    "> - SMS Received as reminders\n",
    "> - No-show: __‘No’__ if the patient showed up, or __‘Yes’__ if they did not show up to their appointment\n",
    "\n",
    "_Reference for Dataset on [Kaggle](https://www.kaggle.com/datasets/joniarroba/noshowappointments)_ \n",
    "\n",
    "\n",
    "### Question(s) for Analysis\n",
    "\n",
    "**Question One**: What are the demographic distributions of the patients?\n",
    "> _- By Gender_\n",
    "> _- By Scholarship_\n",
    "> _- By Health Conditions_\n",
    "> _- Physical Disability_\n",
    "\n",
    "**Question Two**: Is there any impact of the health conditions and attendance at appoinment by the patients?\n",
    "\n",
    "**Question Three**: Does early scheduling impact their attendance at the appointments?\n",
    "\n",
    "**Question Four**: What factors are important for us to know in order to predict if a patient will show up for their scheduled appointment?"
   ]
  },
  {
   "cell_type": "markdown",
   "metadata": {},
   "source": [
    "<a id='wrangling'></a>\n",
    "## Data Wrangling"
   ]
  },
  {
   "cell_type": "code",
   "execution_count": 1,
   "metadata": {},
   "outputs": [],
   "source": [
    "# Use this cell to set up import statements for all of the packages that you plan to use.\n",
    "import numpy as np\n",
    "import pandas as pd\n",
    "import matplotlib.pyplot as plt\n",
    "\n",
    "# Remember to include a 'magic word' so that your visualizations are plotted\n",
    "#   inline with the notebook. See this page for more:\n",
    "#   http://ipython.readthedocs.io/en/stable/interactive/magics.html\n",
    "%matplotlib inline"
   ]
  },
  {
   "cell_type": "code",
   "execution_count": 121,
   "metadata": {},
   "outputs": [
    {
     "data": {
      "text/html": [
       "<div>\n",
       "<style scoped>\n",
       "    .dataframe tbody tr th:only-of-type {\n",
       "        vertical-align: middle;\n",
       "    }\n",
       "\n",
       "    .dataframe tbody tr th {\n",
       "        vertical-align: top;\n",
       "    }\n",
       "\n",
       "    .dataframe thead th {\n",
       "        text-align: right;\n",
       "    }\n",
       "</style>\n",
       "<table border=\"1\" class=\"dataframe\">\n",
       "  <thead>\n",
       "    <tr style=\"text-align: right;\">\n",
       "      <th></th>\n",
       "      <th>PatientId</th>\n",
       "      <th>AppointmentID</th>\n",
       "      <th>Gender</th>\n",
       "      <th>ScheduledDay</th>\n",
       "      <th>AppointmentDay</th>\n",
       "      <th>Age</th>\n",
       "      <th>Neighbourhood</th>\n",
       "      <th>Scholarship</th>\n",
       "      <th>Hipertension</th>\n",
       "      <th>Diabetes</th>\n",
       "      <th>Alcoholism</th>\n",
       "      <th>Handcap</th>\n",
       "      <th>SMS_received</th>\n",
       "      <th>No-show</th>\n",
       "    </tr>\n",
       "  </thead>\n",
       "  <tbody>\n",
       "    <tr>\n",
       "      <th>0</th>\n",
       "      <td>2.987250e+13</td>\n",
       "      <td>5642903</td>\n",
       "      <td>F</td>\n",
       "      <td>2016-04-29T18:38:08Z</td>\n",
       "      <td>2016-04-29T00:00:00Z</td>\n",
       "      <td>62</td>\n",
       "      <td>JARDIM DA PENHA</td>\n",
       "      <td>0</td>\n",
       "      <td>1</td>\n",
       "      <td>0</td>\n",
       "      <td>0</td>\n",
       "      <td>0</td>\n",
       "      <td>0</td>\n",
       "      <td>No</td>\n",
       "    </tr>\n",
       "    <tr>\n",
       "      <th>1</th>\n",
       "      <td>5.589978e+14</td>\n",
       "      <td>5642503</td>\n",
       "      <td>M</td>\n",
       "      <td>2016-04-29T16:08:27Z</td>\n",
       "      <td>2016-04-29T00:00:00Z</td>\n",
       "      <td>56</td>\n",
       "      <td>JARDIM DA PENHA</td>\n",
       "      <td>0</td>\n",
       "      <td>0</td>\n",
       "      <td>0</td>\n",
       "      <td>0</td>\n",
       "      <td>0</td>\n",
       "      <td>0</td>\n",
       "      <td>No</td>\n",
       "    </tr>\n",
       "    <tr>\n",
       "      <th>2</th>\n",
       "      <td>4.262962e+12</td>\n",
       "      <td>5642549</td>\n",
       "      <td>F</td>\n",
       "      <td>2016-04-29T16:19:04Z</td>\n",
       "      <td>2016-04-29T00:00:00Z</td>\n",
       "      <td>62</td>\n",
       "      <td>MATA DA PRAIA</td>\n",
       "      <td>0</td>\n",
       "      <td>0</td>\n",
       "      <td>0</td>\n",
       "      <td>0</td>\n",
       "      <td>0</td>\n",
       "      <td>0</td>\n",
       "      <td>No</td>\n",
       "    </tr>\n",
       "    <tr>\n",
       "      <th>3</th>\n",
       "      <td>8.679512e+11</td>\n",
       "      <td>5642828</td>\n",
       "      <td>F</td>\n",
       "      <td>2016-04-29T17:29:31Z</td>\n",
       "      <td>2016-04-29T00:00:00Z</td>\n",
       "      <td>8</td>\n",
       "      <td>PONTAL DE CAMBURI</td>\n",
       "      <td>0</td>\n",
       "      <td>0</td>\n",
       "      <td>0</td>\n",
       "      <td>0</td>\n",
       "      <td>0</td>\n",
       "      <td>0</td>\n",
       "      <td>No</td>\n",
       "    </tr>\n",
       "    <tr>\n",
       "      <th>4</th>\n",
       "      <td>8.841186e+12</td>\n",
       "      <td>5642494</td>\n",
       "      <td>F</td>\n",
       "      <td>2016-04-29T16:07:23Z</td>\n",
       "      <td>2016-04-29T00:00:00Z</td>\n",
       "      <td>56</td>\n",
       "      <td>JARDIM DA PENHA</td>\n",
       "      <td>0</td>\n",
       "      <td>1</td>\n",
       "      <td>1</td>\n",
       "      <td>0</td>\n",
       "      <td>0</td>\n",
       "      <td>0</td>\n",
       "      <td>No</td>\n",
       "    </tr>\n",
       "  </tbody>\n",
       "</table>\n",
       "</div>"
      ],
      "text/plain": [
       "      PatientId  AppointmentID Gender          ScheduledDay  \\\n",
       "0  2.987250e+13        5642903      F  2016-04-29T18:38:08Z   \n",
       "1  5.589978e+14        5642503      M  2016-04-29T16:08:27Z   \n",
       "2  4.262962e+12        5642549      F  2016-04-29T16:19:04Z   \n",
       "3  8.679512e+11        5642828      F  2016-04-29T17:29:31Z   \n",
       "4  8.841186e+12        5642494      F  2016-04-29T16:07:23Z   \n",
       "\n",
       "         AppointmentDay  Age      Neighbourhood  Scholarship  Hipertension  \\\n",
       "0  2016-04-29T00:00:00Z   62    JARDIM DA PENHA            0             1   \n",
       "1  2016-04-29T00:00:00Z   56    JARDIM DA PENHA            0             0   \n",
       "2  2016-04-29T00:00:00Z   62      MATA DA PRAIA            0             0   \n",
       "3  2016-04-29T00:00:00Z    8  PONTAL DE CAMBURI            0             0   \n",
       "4  2016-04-29T00:00:00Z   56    JARDIM DA PENHA            0             1   \n",
       "\n",
       "   Diabetes  Alcoholism  Handcap  SMS_received No-show  \n",
       "0         0           0        0             0      No  \n",
       "1         0           0        0             0      No  \n",
       "2         0           0        0             0      No  \n",
       "3         0           0        0             0      No  \n",
       "4         1           0        0             0      No  "
      ]
     },
     "execution_count": 121,
     "metadata": {},
     "output_type": "execute_result"
    }
   ],
   "source": [
    "# Load your data and print out a few lines. Perform operations to inspect data\n",
    "#   types and look for instances of missing or possibly errant data.\n",
    "#df = pd.read_csv('noshowappointments.csv')\n",
    "df = pd.read_csv('noshowappointments-kagglev2-may-2016.csv')\n",
    "df.head()"
   ]
  },
  {
   "cell_type": "markdown",
   "metadata": {},
   "source": [
    "> **Checking for the dimensions of the dataset**"
   ]
  },
  {
   "cell_type": "code",
   "execution_count": 3,
   "metadata": {},
   "outputs": [
    {
     "data": {
      "text/plain": [
       "(110527, 14)"
      ]
     },
     "execution_count": 3,
     "metadata": {},
     "output_type": "execute_result"
    }
   ],
   "source": [
    "df.shape"
   ]
  },
  {
   "cell_type": "code",
   "execution_count": 4,
   "metadata": {},
   "outputs": [
    {
     "name": "stdout",
     "output_type": "stream",
     "text": [
      "The shape of the dataset is (110527, 14), with 110527 rows/observations and 14 columns/variables\n"
     ]
    }
   ],
   "source": [
    "print(f\"The shape of the dataset is {df.shape}, with {df.shape[0]} rows/observations and {df.shape[1]} columns/variables\")"
   ]
  },
  {
   "cell_type": "markdown",
   "metadata": {},
   "source": [
    "> **Checking the dataset for rows with missing/null values and datatypes**"
   ]
  },
  {
   "cell_type": "code",
   "execution_count": 5,
   "metadata": {},
   "outputs": [
    {
     "data": {
      "text/plain": [
       "PatientId         0\n",
       "AppointmentID     0\n",
       "Gender            0\n",
       "ScheduledDay      0\n",
       "AppointmentDay    0\n",
       "Age               0\n",
       "Neighbourhood     0\n",
       "Scholarship       0\n",
       "Hypertension      0\n",
       "Diabetes          0\n",
       "Alcoholism        0\n",
       "Handcap           0\n",
       "SMS_received      0\n",
       "No-show           0\n",
       "dtype: int64"
      ]
     },
     "execution_count": 5,
     "metadata": {},
     "output_type": "execute_result"
    }
   ],
   "source": [
    "df.isnull().sum()"
   ]
  },
  {
   "cell_type": "code",
   "execution_count": 6,
   "metadata": {},
   "outputs": [
    {
     "name": "stdout",
     "output_type": "stream",
     "text": [
      "<class 'pandas.core.frame.DataFrame'>\n",
      "RangeIndex: 110527 entries, 0 to 110526\n",
      "Data columns (total 14 columns):\n",
      " #   Column          Non-Null Count   Dtype  \n",
      "---  ------          --------------   -----  \n",
      " 0   PatientId       110527 non-null  float64\n",
      " 1   AppointmentID   110527 non-null  int64  \n",
      " 2   Gender          110527 non-null  object \n",
      " 3   ScheduledDay    110527 non-null  object \n",
      " 4   AppointmentDay  110527 non-null  object \n",
      " 5   Age             110527 non-null  int64  \n",
      " 6   Neighbourhood   110527 non-null  object \n",
      " 7   Scholarship     110527 non-null  int64  \n",
      " 8   Hypertension    110527 non-null  int64  \n",
      " 9   Diabetes        110527 non-null  int64  \n",
      " 10  Alcoholism      110527 non-null  int64  \n",
      " 11  Handcap         110527 non-null  int64  \n",
      " 12  SMS_received    110527 non-null  int64  \n",
      " 13  No-show         110527 non-null  object \n",
      "dtypes: float64(1), int64(8), object(5)\n",
      "memory usage: 11.8+ MB\n"
     ]
    }
   ],
   "source": [
    "df.info()"
   ]
  },
  {
   "cell_type": "markdown",
   "metadata": {},
   "source": [
    "- _The dataset does not have any row(s) with null values along the columns_\n",
    "- _The dataset has 9 variables as either int64 or float which are important in the description of the data_\n",
    "- _The 'ScheduledDay' and 'AppointmentDay' are objects to be converted to datetime_"
   ]
  },
  {
   "cell_type": "markdown",
   "metadata": {},
   "source": [
    "> **Checking the dataset for duplicated rows**"
   ]
  },
  {
   "cell_type": "code",
   "execution_count": 7,
   "metadata": {},
   "outputs": [
    {
     "data": {
      "text/plain": [
       "0"
      ]
     },
     "execution_count": 7,
     "metadata": {},
     "output_type": "execute_result"
    }
   ],
   "source": [
    "df.duplicated().sum()"
   ]
  },
  {
   "cell_type": "markdown",
   "metadata": {},
   "source": [
    "- _The dataset does not have any duplicated rows_"
   ]
  },
  {
   "cell_type": "markdown",
   "metadata": {},
   "source": [
    "> **Describing the dataset**"
   ]
  },
  {
   "cell_type": "code",
   "execution_count": 8,
   "metadata": {},
   "outputs": [
    {
     "data": {
      "text/plain": [
       "count    110527.000000\n",
       "mean         37.088874\n",
       "std          23.110205\n",
       "min          -1.000000\n",
       "25%          18.000000\n",
       "50%          37.000000\n",
       "75%          55.000000\n",
       "max         115.000000\n",
       "Name: Age, dtype: float64"
      ]
     },
     "execution_count": 8,
     "metadata": {},
     "output_type": "execute_result"
    }
   ],
   "source": [
    "df['Age'].describe()"
   ]
  },
  {
   "cell_type": "code",
   "execution_count": 9,
   "metadata": {},
   "outputs": [
    {
     "data": {
      "image/png": "[encoded data removed]",
      "text/plain": [
       "<Figure size 1080x432 with 2 Axes>"
      ]
     },
     "metadata": {
      "needs_background": "light"
     },
     "output_type": "display_data"
    }
   ],
   "source": [
    "fig, ax = plt.subplots(1, 2, figsize=(15, 6))\n",
    "ax[0].hist(df['Age'], color = 'blue', edgecolor = 'black');\n",
    "ax[1].boxplot(df['Age'], vert=False);\n",
    "ax[0].set_xlabel('Age of patients in the No Show Appointment data');\n",
    "ax[1].set_xlabel('Age of patients in the No Show Appointment data');"
   ]
  },
  {
   "cell_type": "code",
   "execution_count": 10,
   "metadata": {},
   "outputs": [
    {
     "name": "stdout",
     "output_type": "stream",
     "text": [
      "There are 0 outliers lesser than the lower boundary of -37.5\n",
      "There are 5 outliers greater than the upper boundary of 110.5\n"
     ]
    }
   ],
   "source": [
    "## How many outliers in the data based on the age distribution of the patients\n",
    "Q3 = np.quantile(df['Age'], 0.75)\n",
    "Q1 = np.quantile(df['Age'], 0.25)\n",
    "lower_boundary = Q1 - 1.5 *(Q3-Q1)\n",
    "upper_boundary = Q3 + 1.5 *(Q3-Q1)\n",
    "print(f\"There are {len(df[df['Age'] < lower_boundary])} outliers lesser than the lower boundary of {lower_boundary}\")\n",
    "print(f\"There are {len(df[df['Age'] > upper_boundary])} outliers greater than the upper boundary of {upper_boundary}\")"
   ]
  },
  {
   "cell_type": "code",
   "execution_count": 11,
   "metadata": {},
   "outputs": [
    {
     "name": "stdout",
     "output_type": "stream",
     "text": [
      "Age\n",
      "[ 62  56   8  76  23  39  21  19  30  29  22  28  54  15  50  40  46   4\n",
      "  13  65  45  51  32  12  61  38  79  18  63  64  85  59  55  71  49  78\n",
      "  31  58  27   6   2  11   7   0   3   1  69  68  60  67  36  10  35  20\n",
      "  26  34  33  16  42   5  47  17  41  44  37  24  66  77  81  70  53  75\n",
      "  73  52  74  43  89  57  14   9  48  83  72  25  80  87  88  84  82  90\n",
      "  94  86  91  98  92  96  93  95  97 102 115 100  99  -1]\n",
      "\n",
      "\n",
      "Gender\n",
      "['F' 'M']\n",
      "\n",
      "\n",
      "Neighbourhood\n",
      "['JARDIM DA PENHA' 'MATA DA PRAIA' 'PONTAL DE CAMBURI' 'REPÚBLICA'\n",
      " 'GOIABEIRAS' 'ANDORINHAS' 'CONQUISTA' 'NOVA PALESTINA' 'DA PENHA'\n",
      " 'TABUAZEIRO' 'BENTO FERREIRA' 'SÃO PEDRO' 'SANTA MARTHA' 'SÃO CRISTÓVÃO'\n",
      " 'MARUÍPE' 'GRANDE VITÓRIA' 'SÃO BENEDITO' 'ILHA DAS CAIEIRAS'\n",
      " 'SANTO ANDRÉ' 'SOLON BORGES' 'BONFIM' 'JARDIM CAMBURI' 'MARIA ORTIZ'\n",
      " 'JABOUR' 'ANTÔNIO HONÓRIO' 'RESISTÊNCIA' 'ILHA DE SANTA MARIA'\n",
      " 'JUCUTUQUARA' 'MONTE BELO' 'MÁRIO CYPRESTE' 'SANTO ANTÔNIO' 'BELA VISTA'\n",
      " 'PRAIA DO SUÁ' 'SANTA HELENA' 'ITARARÉ' 'INHANGUETÁ' 'UNIVERSITÁRIO'\n",
      " 'SÃO JOSÉ' 'REDENÇÃO' 'SANTA CLARA' 'CENTRO' 'PARQUE MOSCOSO'\n",
      " 'DO MOSCOSO' 'SANTOS DUMONT' 'CARATOÍRA' 'ARIOVALDO FAVALESSA'\n",
      " 'ILHA DO FRADE' 'GURIGICA' 'JOANA D´ARC' 'CONSOLAÇÃO' 'PRAIA DO CANTO'\n",
      " 'BOA VISTA' 'MORADA DE CAMBURI' 'SANTA LUÍZA' 'SANTA LÚCIA'\n",
      " 'BARRO VERMELHO' 'ESTRELINHA' 'FORTE SÃO JOÃO' 'FONTE GRANDE'\n",
      " 'ENSEADA DO SUÁ' 'SANTOS REIS' 'PIEDADE' 'JESUS DE NAZARETH'\n",
      " 'SANTA TEREZA' 'CRUZAMENTO' 'ILHA DO PRÍNCIPE' 'ROMÃO' 'COMDUSA'\n",
      " 'SANTA CECÍLIA' 'VILA RUBIM' 'DE LOURDES' 'DO QUADRO' 'DO CABRAL' 'HORTO'\n",
      " 'SEGURANÇA DO LAR' 'ILHA DO BOI' 'FRADINHOS' 'NAZARETH' 'AEROPORTO'\n",
      " 'ILHAS OCEÂNICAS DE TRINDADE' 'PARQUE INDUSTRIAL']\n",
      "\n",
      "\n",
      "Scholarship\n",
      "[0 1]\n",
      "\n",
      "\n",
      "Hypertension\n",
      "[1 0]\n",
      "\n",
      "\n",
      "Diabetes\n",
      "[0 1]\n",
      "\n",
      "\n",
      "Alcoholism\n",
      "[0 1]\n",
      "\n",
      "\n",
      "Handcap\n",
      "[0 1 2 3 4]\n",
      "\n",
      "\n",
      "SMS_received\n",
      "[0 1]\n",
      "\n",
      "\n",
      "No-show\n",
      "['No' 'Yes']\n",
      "\n",
      "\n"
     ]
    }
   ],
   "source": [
    "#Get unique values for each variables\n",
    "for i in df[['Age','Gender', 'Neighbourhood', 'Scholarship', 'Hipertension', 'Diabetes', 'Alcoholism', 'Handcap', 'SMS_received', 'No-show']].columns:\n",
    "    print(i)\n",
    "    print(df[i].unique())\n",
    "    print('\\n')"
   ]
  },
  {
   "cell_type": "code",
   "execution_count": 12,
   "metadata": {},
   "outputs": [
    {
     "data": {
      "text/plain": [
       "1"
      ]
     },
     "execution_count": 12,
     "metadata": {},
     "output_type": "execute_result"
    }
   ],
   "source": [
    "## How many rows contain the negative age for patients\n",
    "len(df[df['Age'] < 0])"
   ]
  },
  {
   "cell_type": "code",
   "execution_count": 13,
   "metadata": {},
   "outputs": [
    {
     "data": {
      "text/plain": [
       "199"
      ]
     },
     "execution_count": 13,
     "metadata": {},
     "output_type": "execute_result"
    }
   ],
   "source": [
    "## How many rows contain wrong handicap designation of more than 1\n",
    "len(df[df['Handcap'] > 1])"
   ]
  },
  {
   "cell_type": "markdown",
   "metadata": {},
   "source": [
    "- _The mean(sd) age of the patients is 37(23), indicating a large spread of the age of the patients around the mean and a large subset of the population are less than the mean/median age_\n",
    "- _The dataset contains outliers based on the patient age (indicating patients who are very old) - the maximum age is far from the 75percentile_\n",
    "- _The dataset contains patient(s) negatively aged '-1'. This cannot be the true age (possibly a mistake at entry)_\n",
    "- _The dataset contains patient(s) with wrong handicap designation of more than 1 (It should be True[1] or False[0])_"
   ]
  },
  {
   "cell_type": "markdown",
   "metadata": {},
   "source": [
    "### Data Cleaning\n",
    "> * All the rows in the dataset have no-missing/complete values. No need for dropping or filling the rows.\n",
    "> * The No Show Appointment dataset has a relatively large number of observations (110,527). I would be dropping the rows observed to contains negative age (1 row), outliers (5 rows), and wrong handicap designation (199 rows). These rows make up about 205 out of 110,527 (0.002%) of the data.\n",
    "> * The 'ScheduledDay' and 'AppointmentDay' columns are to be converted to datetimes."
   ]
  },
  {
   "cell_type": "code",
   "execution_count": 14,
   "metadata": {},
   "outputs": [],
   "source": [
    "# After discussing the structure of the data and any problems that need to be cleaned, perform those cleaning steps in the second part of this section."
   ]
  },
  {
   "cell_type": "markdown",
   "metadata": {},
   "source": [
    "> Dropping row(s) with negative age '-1'"
   ]
  },
  {
   "cell_type": "code",
   "execution_count": 15,
   "metadata": {},
   "outputs": [],
   "source": [
    "# Drop 1 rows with negative age using the index\n",
    "df.drop(df[df['Age'] < 0].index, inplace=True)"
   ]
  },
  {
   "cell_type": "code",
   "execution_count": 16,
   "metadata": {},
   "outputs": [
    {
     "name": "stdout",
     "output_type": "stream",
     "text": [
      "110526\n"
     ]
    }
   ],
   "source": [
    "# Confirm the updated number of rows after dropping the rows with negative age\n",
    "print(len(df))"
   ]
  },
  {
   "cell_type": "markdown",
   "metadata": {},
   "source": [
    "> Dropping row(s) with age outliers"
   ]
  },
  {
   "cell_type": "code",
   "execution_count": 17,
   "metadata": {},
   "outputs": [],
   "source": [
    "# Drop 5 rows with age greater than the upper boundary using the index\n",
    "df.drop(df[df['Age'] > upper_boundary].index, inplace=True)"
   ]
  },
  {
   "cell_type": "code",
   "execution_count": 18,
   "metadata": {},
   "outputs": [
    {
     "name": "stdout",
     "output_type": "stream",
     "text": [
      "110521\n"
     ]
    }
   ],
   "source": [
    "# Confirm the updated number of rows after dropping the rows with outliers\n",
    "print(len(df))"
   ]
  },
  {
   "cell_type": "markdown",
   "metadata": {},
   "source": [
    "> Dropping row(s) with wrong handicap designations"
   ]
  },
  {
   "cell_type": "code",
   "execution_count": 19,
   "metadata": {},
   "outputs": [],
   "source": [
    "# Drop 199 rows with age greater than the upper boundary using the index\n",
    "df.drop(df[df['Handcap'] > 1].index, inplace=True)"
   ]
  },
  {
   "cell_type": "code",
   "execution_count": 20,
   "metadata": {},
   "outputs": [
    {
     "name": "stdout",
     "output_type": "stream",
     "text": [
      "110322\n"
     ]
    }
   ],
   "source": [
    "# Confirm the updated number of rows after dropping the rows with wrong handicap designations\n",
    "print(len(df))"
   ]
  },
  {
   "cell_type": "markdown",
   "metadata": {},
   "source": [
    "> Convert 'ScheduledDay' and 'AppointmentDay' columns to pandas datetime"
   ]
  },
  {
   "cell_type": "code",
   "execution_count": 21,
   "metadata": {},
   "outputs": [],
   "source": [
    "df['ScheduledDay'] = pd.to_datetime(df['ScheduledDay'])\n",
    "df['AppointmentDay'] = pd.to_datetime(df['AppointmentDay'])"
   ]
  },
  {
   "cell_type": "code",
   "execution_count": 22,
   "metadata": {},
   "outputs": [
    {
     "name": "stdout",
     "output_type": "stream",
     "text": [
      "<class 'pandas.core.frame.DataFrame'>\n",
      "Int64Index: 110322 entries, 0 to 110526\n",
      "Data columns (total 14 columns):\n",
      " #   Column          Non-Null Count   Dtype              \n",
      "---  ------          --------------   -----              \n",
      " 0   PatientId       110322 non-null  float64            \n",
      " 1   AppointmentID   110322 non-null  int64              \n",
      " 2   Gender          110322 non-null  object             \n",
      " 3   ScheduledDay    110322 non-null  datetime64[ns, UTC]\n",
      " 4   AppointmentDay  110322 non-null  datetime64[ns, UTC]\n",
      " 5   Age             110322 non-null  int64              \n",
      " 6   Neighbourhood   110322 non-null  object             \n",
      " 7   Scholarship     110322 non-null  int64              \n",
      " 8   Hypertension    110322 non-null  int64              \n",
      " 9   Diabetes        110322 non-null  int64              \n",
      " 10  Alcoholism      110322 non-null  int64              \n",
      " 11  Handcap         110322 non-null  int64              \n",
      " 12  SMS_received    110322 non-null  int64              \n",
      " 13  No-show         110322 non-null  object             \n",
      "dtypes: datetime64[ns, UTC](2), float64(1), int64(8), object(3)\n",
      "memory usage: 12.6+ MB\n"
     ]
    }
   ],
   "source": [
    "# Confirm the updated modifications on the dataframe\n",
    "df.info()"
   ]
  },
  {
   "cell_type": "code",
   "execution_count": 23,
   "metadata": {},
   "outputs": [],
   "source": [
    "# Reset dataframe index to present a working dataframe\n",
    "df.reset_index(inplace=True)"
   ]
  },
  {
   "cell_type": "code",
   "execution_count": 24,
   "metadata": {},
   "outputs": [
    {
     "data": {
      "text/html": [
       "<div>\n",
       "<style scoped>\n",
       "    .dataframe tbody tr th:only-of-type {\n",
       "        vertical-align: middle;\n",
       "    }\n",
       "\n",
       "    .dataframe tbody tr th {\n",
       "        vertical-align: top;\n",
       "    }\n",
       "\n",
       "    .dataframe thead th {\n",
       "        text-align: right;\n",
       "    }\n",
       "</style>\n",
       "<table border=\"1\" class=\"dataframe\">\n",
       "  <thead>\n",
       "    <tr style=\"text-align: right;\">\n",
       "      <th></th>\n",
       "      <th>index</th>\n",
       "      <th>PatientId</th>\n",
       "      <th>AppointmentID</th>\n",
       "      <th>Gender</th>\n",
       "      <th>ScheduledDay</th>\n",
       "      <th>AppointmentDay</th>\n",
       "      <th>Age</th>\n",
       "      <th>Neighbourhood</th>\n",
       "      <th>Scholarship</th>\n",
       "      <th>Hypertension</th>\n",
       "      <th>Diabetes</th>\n",
       "      <th>Alcoholism</th>\n",
       "      <th>Handcap</th>\n",
       "      <th>SMS_received</th>\n",
       "      <th>No-show</th>\n",
       "    </tr>\n",
       "  </thead>\n",
       "  <tbody>\n",
       "    <tr>\n",
       "      <th>110317</th>\n",
       "      <td>110522</td>\n",
       "      <td>2.572130e+12</td>\n",
       "      <td>5651768</td>\n",
       "      <td>F</td>\n",
       "      <td>2016-05-03 09:15:35+00:00</td>\n",
       "      <td>2016-06-07 00:00:00+00:00</td>\n",
       "      <td>56</td>\n",
       "      <td>MARIA ORTIZ</td>\n",
       "      <td>0</td>\n",
       "      <td>0</td>\n",
       "      <td>0</td>\n",
       "      <td>0</td>\n",
       "      <td>0</td>\n",
       "      <td>1</td>\n",
       "      <td>No</td>\n",
       "    </tr>\n",
       "    <tr>\n",
       "      <th>110318</th>\n",
       "      <td>110523</td>\n",
       "      <td>3.596270e+12</td>\n",
       "      <td>5650093</td>\n",
       "      <td>F</td>\n",
       "      <td>2016-05-03 07:27:33+00:00</td>\n",
       "      <td>2016-06-07 00:00:00+00:00</td>\n",
       "      <td>51</td>\n",
       "      <td>MARIA ORTIZ</td>\n",
       "      <td>0</td>\n",
       "      <td>0</td>\n",
       "      <td>0</td>\n",
       "      <td>0</td>\n",
       "      <td>0</td>\n",
       "      <td>1</td>\n",
       "      <td>No</td>\n",
       "    </tr>\n",
       "    <tr>\n",
       "      <th>110319</th>\n",
       "      <td>110524</td>\n",
       "      <td>1.557660e+13</td>\n",
       "      <td>5630692</td>\n",
       "      <td>F</td>\n",
       "      <td>2016-04-27 16:03:52+00:00</td>\n",
       "      <td>2016-06-07 00:00:00+00:00</td>\n",
       "      <td>21</td>\n",
       "      <td>MARIA ORTIZ</td>\n",
       "      <td>0</td>\n",
       "      <td>0</td>\n",
       "      <td>0</td>\n",
       "      <td>0</td>\n",
       "      <td>0</td>\n",
       "      <td>1</td>\n",
       "      <td>No</td>\n",
       "    </tr>\n",
       "    <tr>\n",
       "      <th>110320</th>\n",
       "      <td>110525</td>\n",
       "      <td>9.213490e+13</td>\n",
       "      <td>5630323</td>\n",
       "      <td>F</td>\n",
       "      <td>2016-04-27 15:09:23+00:00</td>\n",
       "      <td>2016-06-07 00:00:00+00:00</td>\n",
       "      <td>38</td>\n",
       "      <td>MARIA ORTIZ</td>\n",
       "      <td>0</td>\n",
       "      <td>0</td>\n",
       "      <td>0</td>\n",
       "      <td>0</td>\n",
       "      <td>0</td>\n",
       "      <td>1</td>\n",
       "      <td>No</td>\n",
       "    </tr>\n",
       "    <tr>\n",
       "      <th>110321</th>\n",
       "      <td>110526</td>\n",
       "      <td>3.775120e+14</td>\n",
       "      <td>5629448</td>\n",
       "      <td>F</td>\n",
       "      <td>2016-04-27 13:30:56+00:00</td>\n",
       "      <td>2016-06-07 00:00:00+00:00</td>\n",
       "      <td>54</td>\n",
       "      <td>MARIA ORTIZ</td>\n",
       "      <td>0</td>\n",
       "      <td>0</td>\n",
       "      <td>0</td>\n",
       "      <td>0</td>\n",
       "      <td>0</td>\n",
       "      <td>1</td>\n",
       "      <td>No</td>\n",
       "    </tr>\n",
       "  </tbody>\n",
       "</table>\n",
       "</div>"
      ],
      "text/plain": [
       "         index     PatientId  AppointmentID Gender              ScheduledDay  \\\n",
       "110317  110522  2.572130e+12        5651768      F 2016-05-03 09:15:35+00:00   \n",
       "110318  110523  3.596270e+12        5650093      F 2016-05-03 07:27:33+00:00   \n",
       "110319  110524  1.557660e+13        5630692      F 2016-04-27 16:03:52+00:00   \n",
       "110320  110525  9.213490e+13        5630323      F 2016-04-27 15:09:23+00:00   \n",
       "110321  110526  3.775120e+14        5629448      F 2016-04-27 13:30:56+00:00   \n",
       "\n",
       "                  AppointmentDay  Age Neighbourhood  Scholarship  \\\n",
       "110317 2016-06-07 00:00:00+00:00   56   MARIA ORTIZ            0   \n",
       "110318 2016-06-07 00:00:00+00:00   51   MARIA ORTIZ            0   \n",
       "110319 2016-06-07 00:00:00+00:00   21   MARIA ORTIZ            0   \n",
       "110320 2016-06-07 00:00:00+00:00   38   MARIA ORTIZ            0   \n",
       "110321 2016-06-07 00:00:00+00:00   54   MARIA ORTIZ            0   \n",
       "\n",
       "        Hypertension  Diabetes  Alcoholism  Handcap  SMS_received No-show  \n",
       "110317             0         0           0        0             1      No  \n",
       "110318             0         0           0        0             1      No  \n",
       "110319             0         0           0        0             1      No  \n",
       "110320             0         0           0        0             1      No  \n",
       "110321             0         0           0        0             1      No  "
      ]
     },
     "execution_count": 24,
     "metadata": {},
     "output_type": "execute_result"
    }
   ],
   "source": [
    "df.tail()"
   ]
  },
  {
   "cell_type": "markdown",
   "metadata": {},
   "source": [
    "> _End of Data Wrangling_"
   ]
  },
  {
   "cell_type": "markdown",
   "metadata": {},
   "source": [
    "<a id='eda'></a>\n",
    "## Exploratory Data Analysis\n",
    "\n",
    "### Research Question 1 (What are the demographic distributions of the patients?)"
   ]
  },
  {
   "cell_type": "code",
   "execution_count": 66,
   "metadata": {},
   "outputs": [],
   "source": [
    "def BreakDownByColmn(df, col):\n",
    "    output_dataframe = pd.DataFrame(df[col].value_counts())\n",
    "    #output_dataframe.iloc['Total'] = df[col].count()\n",
    "    return output_dataframe\n",
    "#def DrawDistributionPlots() "
   ]
  },
  {
   "cell_type": "code",
   "execution_count": 103,
   "metadata": {},
   "outputs": [
    {
     "data": {
      "text/html": [
       "<div>\n",
       "<style scoped>\n",
       "    .dataframe tbody tr th:only-of-type {\n",
       "        vertical-align: middle;\n",
       "    }\n",
       "\n",
       "    .dataframe tbody tr th {\n",
       "        vertical-align: top;\n",
       "    }\n",
       "\n",
       "    .dataframe thead th {\n",
       "        text-align: right;\n",
       "    }\n",
       "</style>\n",
       "<table border=\"1\" class=\"dataframe\">\n",
       "  <thead>\n",
       "    <tr style=\"text-align: right;\">\n",
       "      <th></th>\n",
       "      <th>Gender</th>\n",
       "    </tr>\n",
       "  </thead>\n",
       "  <tbody>\n",
       "    <tr>\n",
       "      <th>F</th>\n",
       "      <td>71725</td>\n",
       "    </tr>\n",
       "    <tr>\n",
       "      <th>M</th>\n",
       "      <td>38597</td>\n",
       "    </tr>\n",
       "  </tbody>\n",
       "</table>\n",
       "</div>"
      ],
      "text/plain": [
       "   Gender\n",
       "F   71725\n",
       "M   38597"
      ]
     },
     "execution_count": 103,
     "metadata": {},
     "output_type": "execute_result"
    }
   ],
   "source": [
    "## How many males and females are in the dataset\n",
    "BreakDownByColmn(df, 'Gender')"
   ]
  },
  {
   "cell_type": "code",
   "execution_count": 109,
   "metadata": {},
   "outputs": [
    {
     "data": {
      "text/html": [
       "<div>\n",
       "<style scoped>\n",
       "    .dataframe tbody tr th:only-of-type {\n",
       "        vertical-align: middle;\n",
       "    }\n",
       "\n",
       "    .dataframe tbody tr th {\n",
       "        vertical-align: top;\n",
       "    }\n",
       "\n",
       "    .dataframe thead th {\n",
       "        text-align: right;\n",
       "    }\n",
       "</style>\n",
       "<table border=\"1\" class=\"dataframe\">\n",
       "  <thead>\n",
       "    <tr style=\"text-align: right;\">\n",
       "      <th></th>\n",
       "      <th>Gender</th>\n",
       "      <th>Scholarship</th>\n",
       "      <th>Hypertension</th>\n",
       "      <th>Diabetes</th>\n",
       "      <th>Alcoholism</th>\n",
       "      <th>Handcap</th>\n",
       "      <th>SMS_received</th>\n",
       "      <th>No-show</th>\n",
       "    </tr>\n",
       "  </thead>\n",
       "  <tbody>\n",
       "    <tr>\n",
       "      <th>0</th>\n",
       "      <td>Female</td>\n",
       "      <td>No Scholarship</td>\n",
       "      <td>Yes, have Hypertension</td>\n",
       "      <td>No Diabetes</td>\n",
       "      <td>Non-Alcoholic</td>\n",
       "      <td>No Disability</td>\n",
       "      <td>No SMS</td>\n",
       "      <td>No, Present</td>\n",
       "    </tr>\n",
       "    <tr>\n",
       "      <th>1</th>\n",
       "      <td>Male</td>\n",
       "      <td>No Scholarship</td>\n",
       "      <td>No Hypertension</td>\n",
       "      <td>No Diabetes</td>\n",
       "      <td>Non-Alcoholic</td>\n",
       "      <td>No Disability</td>\n",
       "      <td>No SMS</td>\n",
       "      <td>No, Present</td>\n",
       "    </tr>\n",
       "    <tr>\n",
       "      <th>2</th>\n",
       "      <td>Female</td>\n",
       "      <td>No Scholarship</td>\n",
       "      <td>No Hypertension</td>\n",
       "      <td>No Diabetes</td>\n",
       "      <td>Non-Alcoholic</td>\n",
       "      <td>No Disability</td>\n",
       "      <td>No SMS</td>\n",
       "      <td>No, Present</td>\n",
       "    </tr>\n",
       "    <tr>\n",
       "      <th>3</th>\n",
       "      <td>Female</td>\n",
       "      <td>No Scholarship</td>\n",
       "      <td>No Hypertension</td>\n",
       "      <td>No Diabetes</td>\n",
       "      <td>Non-Alcoholic</td>\n",
       "      <td>No Disability</td>\n",
       "      <td>No SMS</td>\n",
       "      <td>No, Present</td>\n",
       "    </tr>\n",
       "    <tr>\n",
       "      <th>4</th>\n",
       "      <td>Female</td>\n",
       "      <td>No Scholarship</td>\n",
       "      <td>Yes, have Hypertension</td>\n",
       "      <td>Yes, have Diabetes</td>\n",
       "      <td>Non-Alcoholic</td>\n",
       "      <td>No Disability</td>\n",
       "      <td>No SMS</td>\n",
       "      <td>No, Present</td>\n",
       "    </tr>\n",
       "  </tbody>\n",
       "</table>\n",
       "</div>"
      ],
      "text/plain": [
       "   Gender     Scholarship            Hypertension            Diabetes  \\\n",
       "0  Female  No Scholarship  Yes, have Hypertension         No Diabetes   \n",
       "1    Male  No Scholarship         No Hypertension         No Diabetes   \n",
       "2  Female  No Scholarship         No Hypertension         No Diabetes   \n",
       "3  Female  No Scholarship         No Hypertension         No Diabetes   \n",
       "4  Female  No Scholarship  Yes, have Hypertension  Yes, have Diabetes   \n",
       "\n",
       "      Alcoholism        Handcap SMS_received      No-show  \n",
       "0  Non-Alcoholic  No Disability       No SMS  No, Present  \n",
       "1  Non-Alcoholic  No Disability       No SMS  No, Present  \n",
       "2  Non-Alcoholic  No Disability       No SMS  No, Present  \n",
       "3  Non-Alcoholic  No Disability       No SMS  No, Present  \n",
       "4  Non-Alcoholic  No Disability       No SMS  No, Present  "
      ]
     },
     "execution_count": 109,
     "metadata": {},
     "output_type": "execute_result"
    }
   ],
   "source": [
    "## Distribution of patient based on each variable in the dataset\n",
    "# Reformat the dataset to provide \n",
    "dfpie = df[['Gender', 'Scholarship', 'Hipertension', 'Diabetes', 'Alcoholism', 'Handcap', 'SMS_received', 'No-show']].copy()\n",
    "dfpie['Gender'] = dfpie['Gender'].apply(lambda x : 'Male' if x=='M' else 'Female')\n",
    "dfpie['Scholarship'] = dfpie['Scholarship'].apply(lambda x : 'Yes, On Scholarship' if x==1 else 'No Scholarship')\n",
    "dfpie['Hipertension'] = dfpie['Hipertension'].apply(lambda x : 'Yes, have Hipertension' if x==1 else 'No Hipertension')\n",
    "dfpie['Diabetes'] = dfpie['Diabetes'].apply(lambda x : 'Yes, have Diabetes' if x==1 else 'No Diabetes')\n",
    "dfpie['Alcoholism'] = dfpie['Alcoholism'].apply(lambda x : 'Yes, an Alcoholic' if x==1 else 'Non-Alcoholic')\n",
    "dfpie['Handcap'] = dfpie['Handcap'].apply(lambda x : 'Yes, Physically Disabled' if x==1 else 'No Disability')\n",
    "dfpie['SMS_received'] = dfpie['SMS_received'].apply(lambda x : 'Yes, Received' if x==1 else 'No SMS')\n",
    "dfpie['No-show'] = dfpie['No-show'].apply(lambda x : 'Yes, Absent' if x=='Yes' else 'No, Present')\n",
    "dfpie.head()"
   ]
  },
  {
   "cell_type": "code",
   "execution_count": 110,
   "metadata": {},
   "outputs": [
    {
     "data": {
      "image/png": "[encoded data removed]",
      "text/plain": [
       "<Figure size 1440x1944 with 8 Axes>"
      ]
     },
     "metadata": {},
     "output_type": "display_data"
    }
   ],
   "source": [
    "# Create individual plots showing the portion of each variables \n",
    "fig, ax = plt.subplots(4, 2, figsize=(20, 27))\n",
    "ax[0,0].pie(dfpie['Gender'].value_counts(), labels=dfpie['Gender'].value_counts().index, autopct='%1.1f%%', shadow=True, startangle=90)\n",
    "ax[0,0].set_title('Gender Distribution of patients in the No Show Appointment data');\n",
    "ax[0,1].pie(dfpie['Scholarship'].value_counts(), labels=dfpie['Scholarship'].value_counts().index, autopct='%1.1f%%', shadow=True, startangle=90)\n",
    "ax[0,1].set_title('Scholarship Distribution of patients in the No Show Appointment data');\n",
    "ax[1,0].pie(dfpie['Hypertension'].value_counts(), labels=dfpie['Hypertension'].value_counts().index, autopct='%1.1f%%', shadow=True, startangle=90)\n",
    "ax[1,0].set_title('Distribution of patients\\' hypertension status in the No Show Appointment data');\n",
    "ax[1,1].pie(dfpie['Diabetes'].value_counts(), labels=dfpie['Diabetes'].value_counts().index, autopct='%1.1f%%', shadow=True, startangle=90)\n",
    "ax[1,1].set_title('Distribution of patients\\' diabetes status in the No Show Appointment data');\n",
    "ax[2,0].pie(dfpie['Alcoholism'].value_counts(), labels=dfpie['Alcoholism'].value_counts().index, autopct='%1.1f%%', shadow=True, startangle=90)\n",
    "ax[2,0].set_title('Distribution of patients\\' alcoholic status in the No Show Appointment data');\n",
    "ax[2,1].pie(dfpie['Handcap'].value_counts(), labels=dfpie['Handcap'].value_counts().index, autopct='%1.1f%%', shadow=True, startangle=90)\n",
    "ax[2,1].set_title('Distribution of patients\\' physically disability in the No Show Appointment data');\n",
    "ax[3,0].pie(dfpie['SMS_received'].value_counts(), labels=dfpie['SMS_received'].value_counts().index, autopct='%1.1f%%', shadow=True, startangle=90)\n",
    "ax[3,0].set_title('Distribution of patients who received SMS in the No Show Appointment data');\n",
    "ax[3,1].pie(dfpie['No-show'].value_counts(), labels=dfpie['No-show'].value_counts().index, autopct='%1.1f%%', shadow=True, startangle=90)\n",
    "ax[3,1].set_title('Distribution of patients\\' attendance in the No Show Appointment data');"
   ]
  },
  {
   "cell_type": "code",
   "execution_count": 118,
   "metadata": {},
   "outputs": [
    {
     "data": {
      "image/png": "[encoded data removed]",
      "text/plain": [
       "<Figure size 432x288 with 1 Axes>"
      ]
     },
     "metadata": {
      "needs_background": "light"
     },
     "output_type": "display_data"
    }
   ],
   "source": [
    "df[['Age', 'Gender']].boxplot(by='Gender', vert=False);"
   ]
  },
  {
   "cell_type": "markdown",
   "metadata": {},
   "source": [
    "- _The dataset comprises of more women(female) than men(male)_\n",
    "- _More than "
   ]
  },
  {
   "cell_type": "markdown",
   "metadata": {},
   "source": [
    "### Research Question 2  (Is there any impact of the health conditions and attendance at appoinment by the patients?)"
   ]
  },
  {
   "cell_type": "code",
   "execution_count": null,
   "metadata": {},
   "outputs": [],
   "source": []
  },
  {
   "cell_type": "markdown",
   "metadata": {},
   "source": [
    "<a id='conclusions'></a>\n",
    "## Conclusions\n",
    "\n",
    "\n",
    "## Submitting your Project \n"
   ]
  },
  {
   "cell_type": "code",
   "execution_count": 119,
   "metadata": {},
   "outputs": [
    {
     "data": {
      "text/plain": [
       "1"
      ]
     },
     "execution_count": 119,
     "metadata": {},
     "output_type": "execute_result"
    }
   ],
   "source": [
    "from subprocess import call\n",
    "call(['python', '-m', 'nbconvert', 'Investigate_a_Dataset.ipynb'])"
   ]
  }
 ],
 "metadata": {
  "kernelspec": {
   "display_name": "Python 3",
   "language": "python",
   "name": "python3"
  },
  "language_info": {
   "codemirror_mode": {
    "name": "ipython",
    "version": 3
   },
   "file_extension": ".py",
   "mimetype": "text/x-python",
   "name": "python",
   "nbconvert_exporter": "python",
   "pygments_lexer": "ipython3",
   "version": "3.8.1"
  }
 },
 "nbformat": 4,
 "nbformat_minor": 4
}
